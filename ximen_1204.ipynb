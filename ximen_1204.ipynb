{
  "nbformat": 4,
  "nbformat_minor": 0,
  "metadata": {
    "colab": {
      "provenance": [],
      "authorship_tag": "ABX9TyMZj9XJtj5XSfqZstHehggd",
      "include_colab_link": true
    },
    "kernelspec": {
      "name": "python3",
      "display_name": "Python 3"
    },
    "language_info": {
      "name": "python"
    }
  },
  "cells": [
    {
      "cell_type": "markdown",
      "metadata": {
        "id": "view-in-github",
        "colab_type": "text"
      },
      "source": [
        "<a href=\"https://colab.research.google.com/github/Elwing-Chou/ximen1203/blob/main/ximen_1204.ipynb\" target=\"_parent\"><img src=\"https://colab.research.google.com/assets/colab-badge.svg\" alt=\"Open In Colab\"/></a>"
      ]
    },
    {
      "cell_type": "markdown",
      "source": [
        "# 迴圈練習1\n",
        "\n",
        "```python\n",
        "o\n",
        "oo\n",
        "ooo\n",
        "\n",
        "```"
      ],
      "metadata": {
        "id": "CBOWTbonQCPc"
      }
    },
    {
      "cell_type": "code",
      "execution_count": 11,
      "metadata": {
        "colab": {
          "base_uri": "https://localhost:8080/"
        },
        "id": "COKyDP62PwnS",
        "outputId": "2341a834-e99b-4688-cbde-aa1210d2e836"
      },
      "outputs": [
        {
          "output_type": "stream",
          "name": "stdout",
          "text": [
            "o\n",
            "oo\n",
            "ooo\n",
            "oooo\n",
            "ooooo\n",
            "oooooo\n",
            "ooooooo\n",
            "oooooooo\n",
            "ooooooooo\n",
            "oooooooooo\n"
          ]
        }
      ],
      "source": [
        "i = 0\n",
        "while i < 10:\n",
        "    print(\"o\" * (i + 1))\n",
        "    i = i + 1"
      ]
    },
    {
      "cell_type": "code",
      "source": [
        "total = 10\n",
        "i = 0\n",
        "while i < total:\n",
        "    print(\" \" * (total - i - 1) + \"o\" * (i + 1))\n",
        "    i = i + 1"
      ],
      "metadata": {
        "id": "Jr3_eOQvTGlT"
      },
      "execution_count": null,
      "outputs": []
    },
    {
      "cell_type": "code",
      "source": [
        "lsymbol, rsymbol = \" \", \"o\"\n",
        "total = 10\n",
        "i = 0\n",
        "while i < total:\n",
        "    lcount = total - i - 1\n",
        "    rcount = i + 1\n",
        "    print(lsymbol * lcount +\n",
        "       rsymbol * rcount)\n",
        "    i = i + 1"
      ],
      "metadata": {
        "id": "MuJimVBkUl3r"
      },
      "execution_count": null,
      "outputs": []
    },
    {
      "cell_type": "code",
      "source": [
        "lsymbol, rsymbol = \" \", \"o\"\n",
        "total = 10\n",
        "i = 0\n",
        "while i < total:\n",
        "    lcount = i\n",
        "    rcount = total - i - 1\n",
        "    print(lsymbol * lcount +\n",
        "       rsymbol * rcount)\n",
        "    i = i + 1"
      ],
      "metadata": {
        "colab": {
          "base_uri": "https://localhost:8080/"
        },
        "id": "dhu7hs01WdOi",
        "outputId": "301ce756-4cb2-4963-bda8-e017b4a29441"
      },
      "execution_count": 12,
      "outputs": [
        {
          "output_type": "stream",
          "name": "stdout",
          "text": [
            "ooooooooo\n",
            " oooooooo\n",
            "  ooooooo\n",
            "   oooooo\n",
            "    ooooo\n",
            "     oooo\n",
            "      ooo\n",
            "       oo\n",
            "        o\n",
            "         \n"
          ]
        }
      ]
    },
    {
      "cell_type": "code",
      "source": [
        "total = 10\n",
        "i = 0\n",
        "while i < total:\n",
        "    # 奇數行的時候 i為偶數(%2 == 0)\n",
        "    if i % 2 == 0:\n",
        "        lsymbol, rsymbol = \" \", \"o\"\n",
        "    else:\n",
        "        lsymbol, rsymbol = \" \", \"x\"\n",
        "\n",
        "    lcount = i\n",
        "    rcount = total - i - 1\n",
        "    print(lsymbol * lcount +\n",
        "       rsymbol * rcount)\n",
        "    i = i + 1"
      ],
      "metadata": {
        "colab": {
          "base_uri": "https://localhost:8080/"
        },
        "id": "fq3yBb1IW_BJ",
        "outputId": "8cedc4a1-4e4b-4c04-cfc9-463fc062b5d3"
      },
      "execution_count": 13,
      "outputs": [
        {
          "output_type": "stream",
          "name": "stdout",
          "text": [
            "ooooooooo\n",
            " xxxxxxxx\n",
            "  ooooooo\n",
            "   xxxxxx\n",
            "    ooooo\n",
            "     xxxx\n",
            "      ooo\n",
            "       xx\n",
            "        o\n",
            "         \n"
          ]
        }
      ]
    },
    {
      "cell_type": "code",
      "source": [
        "lsymbol, msymbol, rsymbol = \" \", \"o\", \" \"\n",
        "total = 10\n",
        "i = 0\n",
        "while i < total:\n",
        "    lcount = i\n",
        "    mcount = (2 * total - 1) - 2 * i\n",
        "    rcount = i\n",
        "    print(lsymbol * lcount +\n",
        "       msymbol * mcount +\n",
        "       rsymbol * rcount)\n",
        "    i = i + 1"
      ],
      "metadata": {
        "colab": {
          "base_uri": "https://localhost:8080/"
        },
        "id": "LKC5YgXocZFZ",
        "outputId": "65d90f97-687f-41b0-b650-c6584634643f"
      },
      "execution_count": 15,
      "outputs": [
        {
          "output_type": "stream",
          "name": "stdout",
          "text": [
            "ooooooooooooooooooo\n",
            " ooooooooooooooooo \n",
            "  ooooooooooooooo  \n",
            "   ooooooooooooo   \n",
            "    ooooooooooo    \n",
            "     ooooooooo     \n",
            "      ooooooo      \n",
            "       ooooo       \n",
            "        ooo        \n",
            "         o         \n"
          ]
        }
      ]
    },
    {
      "cell_type": "markdown",
      "source": [
        "# 迴圈練習2\n",
        "\n",
        "```python\n",
        "記憶型的迴圈\n",
        "!!! 你平常做的時候要記得什麼 就要在程式準備這塊記憶\n",
        "!!! 記得去思考你單次做什麼\n",
        "\n",
        "```"
      ],
      "metadata": {
        "id": "Xd2YVBZBeai5"
      }
    },
    {
      "cell_type": "code",
      "source": [
        "total = 0\n",
        "i = 0\n",
        "while i < 10:\n",
        "    total = total + (i + 1)\n",
        "    print(total)\n",
        "    i = i + 1"
      ],
      "metadata": {
        "colab": {
          "base_uri": "https://localhost:8080/"
        },
        "id": "T0jvE_q4fSbx",
        "outputId": "92f550db-6dfc-4d3d-f0c7-e747e2aa331c"
      },
      "execution_count": 19,
      "outputs": [
        {
          "output_type": "stream",
          "name": "stdout",
          "text": [
            "1\n",
            "3\n",
            "6\n",
            "10\n",
            "15\n",
            "21\n",
            "28\n",
            "36\n",
            "45\n",
            "55\n"
          ]
        }
      ]
    },
    {
      "cell_type": "code",
      "source": [
        "result = \"0.\"\n",
        "a, b = 2, 7\n",
        "i = 0\n",
        "while i < 10:\n",
        "    # 2 -> 20\n",
        "    a10 = a * 10\n",
        "    # 20 // 7\n",
        "    result = result + str(a10 // b)\n",
        "    print(result)\n",
        "    # 20 % 7\n",
        "    a = a10 % b\n",
        "    i = i + 1"
      ],
      "metadata": {
        "colab": {
          "base_uri": "https://localhost:8080/"
        },
        "id": "fxjSXAglhdDB",
        "outputId": "485659f2-ed84-4017-91ef-84ca1be43ec1"
      },
      "execution_count": 20,
      "outputs": [
        {
          "output_type": "stream",
          "name": "stdout",
          "text": [
            "0.2\n",
            "0.28\n",
            "0.285\n",
            "0.2857\n",
            "0.28571\n",
            "0.285714\n",
            "0.2857142\n",
            "0.28571428\n",
            "0.285714285\n",
            "0.2857142857\n"
          ]
        }
      ]
    },
    {
      "cell_type": "markdown",
      "source": [
        "```python\n",
        "\n",
        "編碼\n",
        "a -> 01000110010110\n",
        "反向: 解碼\n",
        "\n",
        "英文編碼: ASCII\n",
        "```"
      ],
      "metadata": {
        "id": "05oUIY2AlIYn"
      }
    },
    {
      "cell_type": "code",
      "source": [
        "# ord(\"A\")\n",
        "s = \"adfnASD   我 !\"\n",
        "lower, upper = 0, 0\n",
        "i = 0\n",
        "while i < len(s):\n",
        "    # 拿出每個字母\n",
        "    c = s[i]\n",
        "    if ord(\"A\") <= ord(c) <= ord(\"Z\"):\n",
        "        upper = upper + 1\n",
        "    elif ord(\"a\") <= ord(c) <= ord(\"z\"):\n",
        "        lower = lower + 1\n",
        "    i = i + 1\n",
        "print(lower, upper)"
      ],
      "metadata": {
        "colab": {
          "base_uri": "https://localhost:8080/"
        },
        "id": "nwta-NLWl6HF",
        "outputId": "a6247984-2981-4c85-b98c-740c2f10a2b0"
      },
      "execution_count": 27,
      "outputs": [
        {
          "output_type": "stream",
          "name": "stdout",
          "text": [
            "4 3\n"
          ]
        }
      ]
    },
    {
      "cell_type": "markdown",
      "source": [
        "# 密碼學\n",
        "\n",
        "```python\n",
        "1. 凱薩密碼: 密碼=2 apple->crrng\n",
        "\n",
        "2. 維吉尼亞密碼:\n",
        "a b c d ... z\n",
        "d z a f ... b\n",
        "abcd -> dzaf\n",
        "暴力破解: 26 * 25 * ... * 1 = 26!\n",
        "!!! 採用字母頻率破解\n",
        "\n",
        "3. Enigma(謎: 德軍二次世界)\n",
        "原本  a ....... z\n",
        "組合  b ....... d (維吉尼亞)\n",
        "組合  c ....... f (維吉尼亞)\n",
        "五組!!!\n",
        "aasdfasdfsdfsdaf\n",
        "12345123451\n",
        "\n",
        "Alan Turing: 模仿遊戲\n",
        "\n",
        "```"
      ],
      "metadata": {
        "id": "PXMKGCeVstP-"
      }
    },
    {
      "cell_type": "code",
      "source": [
        "# chr(97) -> \"a\"\n",
        "# 先都小寫\n",
        "ori = \"applez\"\n",
        "pwd = 2\n",
        "# 位移兩個(crrngb)\n",
        "result = \"\"\n",
        "\n",
        "i = 0\n",
        "while i < len(ori):\n",
        "    # 取出每一個字\n",
        "    c = ori[i]\n",
        "    # 拿出每個字的編碼(ord)\n",
        "    n = ord(c) - ord(\"a\")\n",
        "    # 往後位移(97-122換成0-25在開始+2)\n",
        "    n = (n + pwd) % 26\n",
        "    # 使用chr換還成英文字母放進去result\n",
        "    result = result + chr(n + ord(\"a\"))\n",
        "    i = i + 1\n",
        "print(result)"
      ],
      "metadata": {
        "colab": {
          "base_uri": "https://localhost:8080/"
        },
        "id": "phvFx6cFxzy0",
        "outputId": "5845c0ef-57cf-4158-d8d1-28fc47caea64"
      },
      "execution_count": 30,
      "outputs": [
        {
          "output_type": "stream",
          "name": "stdout",
          "text": [
            "crrngb\n"
          ]
        }
      ]
    },
    {
      "cell_type": "markdown",
      "source": [
        "# 迴圈練習3\n",
        "\n",
        "```python\n",
        "不是由次數限制的迴圈\n",
        "!!! while後面自由\n",
        "\n",
        "布林型態(Boolean): True, False\n",
        "四大基礎型態: 數字/字串/布林/無\n",
        "\n",
        "1. 不: not a > 3\n",
        "2. 組合: 而且(and) 或者(or)\n",
        "a > 3 and b < 5\n",
        "\n",
        "e.g. 18 ---- a ---- 60\n",
        "a >= 18 and a <= 60\n",
        "\n",
        "e.g. a ----18  60 ---- a\n",
        "a < 18 or a > 60\n",
        "\n",
        "```"
      ],
      "metadata": {
        "id": "YEkTaseoH-cH"
      }
    },
    {
      "cell_type": "code",
      "source": [
        "import random\n",
        "\n",
        "trans = [\"LOSE\", \"EVEN\", \"WIN\"]\n",
        "win, lose = 0, 0\n",
        "while (win < 3) and (lose < 3):\n",
        "    # -1: lose 0: even 1: win\n",
        "    result = random.randint(-1, 1)\n",
        "    print(trans[result+1])\n",
        "    if result == 1:\n",
        "        win = win + 1\n",
        "    elif result == -1:\n",
        "        lose = lose + 1\n",
        "\n",
        "print(win, lose)\n",
        "if win > lose:\n",
        "    print(\"贏\")\n",
        "else:\n",
        "    print(\"輸\")"
      ],
      "metadata": {
        "id": "LEbFDmqaIQIt"
      },
      "execution_count": null,
      "outputs": []
    },
    {
      "cell_type": "markdown",
      "source": [
        "```python\n",
        "\n",
        "while True: 無窮迴圈\n",
        "break: 跳出迴圈\n",
        "\n",
        "!!! 你可以不用組合\n",
        "!!! 時間點自由\n",
        "!!! 要做什麼收尾工作都可以\n",
        "\n",
        "```"
      ],
      "metadata": {
        "id": "BrjhXBPTP8TE"
      }
    },
    {
      "cell_type": "code",
      "source": [
        "trans = [\"LOSE\", \"EVEN\", \"WIN\"]\n",
        "win, lose = 0, 0\n",
        "while True:\n",
        "    # -1: lose 0: even 1: win\n",
        "    result = random.randint(-1, 1)\n",
        "    print(trans[result+1])\n",
        "    if result == 1:\n",
        "        win = win + 1\n",
        "    elif result == -1:\n",
        "        lose = lose + 1\n",
        "    # check\n",
        "    if win == 3:\n",
        "        print(\"贏\")\n",
        "        break\n",
        "    elif lose == 3:\n",
        "        print(\"輸\")\n",
        "        break"
      ],
      "metadata": {
        "colab": {
          "base_uri": "https://localhost:8080/"
        },
        "id": "y7GRTwQ_QQqz",
        "outputId": "321ad10f-71ef-4ab4-e8d6-b0b078f67240"
      },
      "execution_count": 2,
      "outputs": [
        {
          "output_type": "stream",
          "name": "stdout",
          "text": [
            "EVEN\n",
            "WIN\n",
            "LOSE\n",
            "EVEN\n",
            "EVEN\n",
            "LOSE\n",
            "WIN\n",
            "LOSE\n",
            "輸\n"
          ]
        }
      ]
    },
    {
      "cell_type": "code",
      "source": [
        "import random\n",
        "\n",
        "low, high = 1, 100\n",
        "ans = random.randint(low+1, high-1)\n",
        "\n",
        "while True:\n",
        "    print(\"請輸入\", low, \"-\", high, \":\")\n",
        "    guess = int(input())\n",
        "    if guess > ans:\n",
        "        print(\"猜大了\")\n",
        "        high = guess\n",
        "    elif guess < ans:\n",
        "        print(\"猜小了\")\n",
        "        low = guess\n",
        "    else:\n",
        "        print(\"對了!!!!\")\n",
        "        break"
      ],
      "metadata": {
        "id": "0S4RWalzVcXT"
      },
      "execution_count": null,
      "outputs": []
    }
  ]
}