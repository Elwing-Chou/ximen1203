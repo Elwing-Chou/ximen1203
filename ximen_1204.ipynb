{
  "nbformat": 4,
  "nbformat_minor": 0,
  "metadata": {
    "colab": {
      "provenance": [],
      "authorship_tag": "ABX9TyPcYq8rhqu/qQVVy18GHy49",
      "include_colab_link": true
    },
    "kernelspec": {
      "name": "python3",
      "display_name": "Python 3"
    },
    "language_info": {
      "name": "python"
    }
  },
  "cells": [
    {
      "cell_type": "markdown",
      "metadata": {
        "id": "view-in-github",
        "colab_type": "text"
      },
      "source": [
        "<a href=\"https://colab.research.google.com/github/Elwing-Chou/ximen1203/blob/main/ximen_1204.ipynb\" target=\"_parent\"><img src=\"https://colab.research.google.com/assets/colab-badge.svg\" alt=\"Open In Colab\"/></a>"
      ]
    },
    {
      "cell_type": "markdown",
      "source": [
        "# 迴圈練習1\n",
        "\n",
        "```python\n",
        "o\n",
        "oo\n",
        "ooo\n",
        "\n",
        "```"
      ],
      "metadata": {
        "id": "CBOWTbonQCPc"
      }
    },
    {
      "cell_type": "code",
      "execution_count": 11,
      "metadata": {
        "colab": {
          "base_uri": "https://localhost:8080/"
        },
        "id": "COKyDP62PwnS",
        "outputId": "2341a834-e99b-4688-cbde-aa1210d2e836"
      },
      "outputs": [
        {
          "output_type": "stream",
          "name": "stdout",
          "text": [
            "o\n",
            "oo\n",
            "ooo\n",
            "oooo\n",
            "ooooo\n",
            "oooooo\n",
            "ooooooo\n",
            "oooooooo\n",
            "ooooooooo\n",
            "oooooooooo\n"
          ]
        }
      ],
      "source": [
        "i = 0\n",
        "while i < 10:\n",
        "    print(\"o\" * (i + 1))\n",
        "    i = i + 1"
      ]
    },
    {
      "cell_type": "code",
      "source": [
        "total = 10\n",
        "i = 0\n",
        "while i < total:\n",
        "    print(\" \" * (total - i - 1) + \"o\" * (i + 1))\n",
        "    i = i + 1"
      ],
      "metadata": {
        "id": "Jr3_eOQvTGlT"
      },
      "execution_count": null,
      "outputs": []
    },
    {
      "cell_type": "code",
      "source": [
        "lsymbol, rsymbol = \" \", \"o\"\n",
        "total = 10\n",
        "i = 0\n",
        "while i < total:\n",
        "    lcount = total - i - 1\n",
        "    rcount = i + 1\n",
        "    print(lsymbol * lcount +\n",
        "       rsymbol * rcount)\n",
        "    i = i + 1"
      ],
      "metadata": {
        "id": "MuJimVBkUl3r"
      },
      "execution_count": null,
      "outputs": []
    }
  ]
}