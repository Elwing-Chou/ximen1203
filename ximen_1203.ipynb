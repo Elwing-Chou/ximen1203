{
  "nbformat": 4,
  "nbformat_minor": 0,
  "metadata": {
    "colab": {
      "provenance": [],
      "authorship_tag": "ABX9TyO+8dkIGFT0bLNHMGQJmiib",
      "include_colab_link": true
    },
    "kernelspec": {
      "name": "python3",
      "display_name": "Python 3"
    },
    "language_info": {
      "name": "python"
    }
  },
  "cells": [
    {
      "cell_type": "markdown",
      "metadata": {
        "id": "view-in-github",
        "colab_type": "text"
      },
      "source": [
        "<a href=\"https://colab.research.google.com/github/Elwing-Chou/ximen1203/blob/main/ximen_1203.ipynb\" target=\"_parent\"><img src=\"https://colab.research.google.com/assets/colab-badge.svg\" alt=\"Open In Colab\"/></a>"
      ]
    },
    {
      "cell_type": "markdown",
      "source": [
        "```python\n",
        "0. 註解: # 影響可讀性很重要的一點\n",
        "\n",
        "1. 功能: print(5)\n",
        "  !!! 就算沒有參數 功能()\n",
        "\n",
        "2. 排版: 影響\"可讀性\"很重要的一點\n",
        "PEP Coding Style\n",
        "\n",
        "3. 不要重複寫!!!!!!!!!\n",
        "\n",
        "4. =:\n",
        "  a. 5 == 3 + 2(是否相等?)\n",
        "  b. x = 3(以...做取代)\n",
        "\n",
        "5. 型態:\n",
        "  a. 數字(整數int, 小數float)\n",
        "  b. 字串(str): 包含數字空白換行 都是一個字\n",
        "    \"xxx\"  \n",
        "\n",
        "6. 型態轉換:\n",
        "  int() float() str()\n",
        "  \n",
        "!! 浮點數誤差: 轉換之間產生的小誤差 沒差\n",
        "```"
      ],
      "metadata": {
        "id": "NPlaEzEhShL6"
      }
    },
    {
      "cell_type": "code",
      "execution_count": 28,
      "metadata": {
        "id": "OPlh8qDKK4Mw",
        "colab": {
          "base_uri": "https://localhost:8080/"
        },
        "outputId": "d8c93d92-d374-45e8-95de-c29c4accad32"
      },
      "outputs": [
        {
          "output_type": "stream",
          "name": "stdout",
          "text": [
            "我的體重是:50kg\n",
            "我的身高是:175cm\n",
            "bmi是:16.3265306122449\n"
          ]
        }
      ],
      "source": [
        "# 計算bmi的程式 bmi = 體重(kg) / 身高(m)的平方\n",
        "weight = 70\n",
        "height = 175\n",
        "bmi = weight / (height / 100) ** 2\n",
        "# 2 + 3 -> 5\n",
        "# \"abc\" + \"def\" -> \"abcdef\"\n",
        "# \"abc\" + 2 -> X\n",
        "# Python不幫你偷雞摸狗(偷偷幫你把2換成字串)\n",
        "print(\"我的體重是:\" + str(weight) + \"kg\")\n",
        "print(\"我的身高是:\" + str(height) + \"cm\")\n",
        "print(\"bmi是:\" + str(bmi))"
      ]
    }
  ]
}