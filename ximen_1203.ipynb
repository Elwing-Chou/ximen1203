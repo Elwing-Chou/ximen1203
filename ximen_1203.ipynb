{
  "nbformat": 4,
  "nbformat_minor": 0,
  "metadata": {
    "colab": {
      "provenance": [],
      "authorship_tag": "ABX9TyPnUr8DPQUfdHe9QnQizwpq",
      "include_colab_link": true
    },
    "kernelspec": {
      "name": "python3",
      "display_name": "Python 3"
    },
    "language_info": {
      "name": "python"
    }
  },
  "cells": [
    {
      "cell_type": "markdown",
      "metadata": {
        "id": "view-in-github",
        "colab_type": "text"
      },
      "source": [
        "<a href=\"https://colab.research.google.com/github/Elwing-Chou/ximen1203/blob/main/ximen_1203.ipynb\" target=\"_parent\"><img src=\"https://colab.research.google.com/assets/colab-badge.svg\" alt=\"Open In Colab\"/></a>"
      ]
    },
    {
      "cell_type": "markdown",
      "source": [
        "```python\n",
        "0. 註解: # 影響可讀性很重要的一點\n",
        "\n",
        "1. 功能: print(5)\n",
        "  !!! 就算沒有參數 功能()\n",
        "\n",
        "2. 排版: 影響\"可讀性\"很重要的一點\n",
        "PEP Coding Style\n",
        "\n",
        "3. 不要重複寫!!!!!!!!!\n",
        "\n",
        "4. =:\n",
        "  a. 5 == 3 + 2(是否相等?)\n",
        "  b. x = 3(以...做取代)\n",
        "\n",
        "5. 型態:\n",
        "  a. 數字(整數int, 小數float)\n",
        "  b. 字串(str): 包含數字空白換行 都是一個字\n",
        "    \"xxx\"  \n",
        "\n",
        "6. 型態轉換:\n",
        "  int() float() str()\n",
        "\n",
        "7. input(\"提示字串\")\n",
        "  a. 參數: 提示字串\n",
        "  b. 回傳值: 回傳一個\"新的\"結果(確認型態!!!!!!!!)\n",
        "\n",
        "8. 如果否則(if else)\n",
        "  快捷鍵: TAB/Shift+TAB\n",
        "\n",
        "9. 縮排排版(強調) (冒號/TAB)\n",
        "  Elwing:\n",
        "    xxxx\n",
        "    xxxx\n",
        "\n",
        "!! 浮點數誤差: 轉換之間產生的小誤差 沒差\n",
        "```"
      ],
      "metadata": {
        "id": "NPlaEzEhShL6"
      }
    },
    {
      "cell_type": "code",
      "execution_count": 45,
      "metadata": {
        "id": "OPlh8qDKK4Mw",
        "colab": {
          "base_uri": "https://localhost:8080/"
        },
        "outputId": "b119f68a-ce45-4a31-e834-304035aa13ba"
      },
      "outputs": [
        {
          "output_type": "stream",
          "name": "stdout",
          "text": [
            "請輸入體重(kg):70\n",
            "請輸入身高(cm):150\n",
            "我的體重是:70.0kg\n",
            "我的身高是:150.0cm\n",
            "bmi是:31.11111111111111\n",
            "過重\n",
            "多運動\n",
            "!!!!!!\n"
          ]
        }
      ],
      "source": [
        "# 計算bmi的程式 bmi = 體重(kg) / 身高(m)的平方\n",
        "weight = float(input(\"請輸入體重(kg):\"))\n",
        "height = float(input(\"請輸入身高(cm):\"))\n",
        "bmi = weight / (height / 100) ** 2\n",
        "# 2 + 3 -> 5\n",
        "# \"abc\" + \"def\" -> \"abcdef\"\n",
        "# \"abc\" + 2 -> X\n",
        "# Python不幫你偷雞摸狗(偷偷幫你把2換成字串)\n",
        "print(\"我的體重是:\" + str(weight) + \"kg\")\n",
        "print(\"我的身高是:\" + str(height) + \"cm\")\n",
        "print(\"bmi是:\" + str(bmi))\n",
        "\n",
        "# > >= <= < ==\n",
        "if bmi > 25:\n",
        "    print(\"過重\")\n",
        "    print(\"多運動\")\n",
        "else:\n",
        "    print(\"正常\")\n",
        "print(\"!!!!!!\")"
      ]
    },
    {
      "cell_type": "code",
      "source": [
        "a = 4.8\n",
        "b = int(a)\n",
        "print(a)\n",
        "print(b)"
      ],
      "metadata": {
        "colab": {
          "base_uri": "https://localhost:8080/"
        },
        "id": "tBzKN2P6kqyd",
        "outputId": "abb2fde8-b573-4389-ca1e-83fce434dd62"
      },
      "execution_count": 33,
      "outputs": [
        {
          "output_type": "stream",
          "name": "stdout",
          "text": [
            "4.8\n",
            "4\n"
          ]
        }
      ]
    },
    {
      "cell_type": "code",
      "source": [
        "a = 3\n",
        "b = a + 2\n",
        "print(a)\n",
        "print(b)"
      ],
      "metadata": {
        "colab": {
          "base_uri": "https://localhost:8080/"
        },
        "id": "vUvNGXOIl-ml",
        "outputId": "7d66c46d-3a08-4445-f87a-fd1706e8fe67"
      },
      "execution_count": 35,
      "outputs": [
        {
          "output_type": "stream",
          "name": "stdout",
          "text": [
            "3\n",
            "5\n"
          ]
        }
      ]
    },
    {
      "cell_type": "markdown",
      "source": [
        "# 剪刀石頭不\n",
        "\n",
        "```python\n",
        "1. 有隱含大小關係: 整數數字(從0開始)\n",
        "\n",
        "2. 不同的.py: 引用(import) .py名\n",
        "  用的時候照抄\n",
        "    import random\n",
        "    random.(的)randint(0, 2)\n",
        "  !!! 除了最內建(built-in functions)以外都要import\n",
        "\n",
        "3. 清單(list)型態\n",
        "  trans = [\"xxx\", \"xxx\", \"xxx\"]\n",
        "  key-value: 在每個位置賦予他一個key\n",
        "  只要有key-value, 就一定有查詢操作\n",
        "  查[key]\n",
        "\n",
        "4. 如果 否則如果 否則(單選篩選 嚴格放上)\n",
        "    if bmi > 25:\n",
        "        print\n",
        "    elif bmi > 18:\n",
        "        print\n",
        "    else:\n",
        "        print\n",
        "\n",
        "5. else可以不寫, 最難的可以考慮放else\n",
        "\n",
        "6. 7 / 3 = 2...1\n",
        "  a. 取餘數(%)(mod): 循環 7 % 3 -> 1\n",
        "  b. 取商數(//): 分組 7 // 3 -> 2\n",
        "```"
      ],
      "metadata": {
        "id": "I30mpv0W-c5n"
      }
    },
    {
      "cell_type": "code",
      "source": [
        "# 0: 剪刀 1: 石頭 2: 布\n",
        "import random\n",
        "my = int(input(\"0-2:\"))\n",
        "com = random.randint(0, 2)\n",
        "trans = [\"剪刀\", \"石頭\", \"布\"]\n",
        "print(\"我出的:\", trans[my])\n",
        "print(\"電腦出的:\", trans[com])\n",
        "\n",
        "# 我出的是電腦的下一個拳\n",
        "if my == (com + 1) % 3:\n",
        "    print(\"WIN\")\n",
        "elif com == (my + 1) % 3:\n",
        "    print(\"LOSE\")\n",
        "else:\n",
        "    print(\"EVEN\")"
      ],
      "metadata": {
        "colab": {
          "base_uri": "https://localhost:8080/"
        },
        "id": "BShVVP5t-cWI",
        "outputId": "d8fa1cf3-441a-4ac5-8d3e-624c7f533efb"
      },
      "execution_count": 60,
      "outputs": [
        {
          "output_type": "stream",
          "name": "stdout",
          "text": [
            "0-2:0\n",
            "我出的: 剪刀\n",
            "電腦出的: 布\n",
            "WIN\n"
          ]
        }
      ]
    },
    {
      "cell_type": "code",
      "source": [
        "# 用字串demo key-value\n",
        "s = \"apples\"\n",
        "print(s[5])"
      ],
      "metadata": {
        "colab": {
          "base_uri": "https://localhost:8080/"
        },
        "id": "YbIHDRDkHupd",
        "outputId": "37301600-7e3b-4c7e-eb36-3860d87ec981"
      },
      "execution_count": 57,
      "outputs": [
        {
          "output_type": "stream",
          "name": "stdout",
          "text": [
            "s\n"
          ]
        }
      ]
    },
    {
      "cell_type": "markdown",
      "source": [
        "![未命名.png](data:image/png;base64,iVBORw0KGgoAAAANSUhEUgAABPoAAAMDCAIAAAC0IuykAAAAAXNSR0IArs4c6QAAAARnQU1BAACxjwv8YQUAAAAJcEhZcwAADsMAAA7DAcdvqGQAAF/zSURBVHhe7dxRkrQ6li7YHEg/lbVZT6bm1HO5M6hZ3Zcew+04+A4dAndwARJIYi2TWf2BBA4Svl1fVVb+5/8AAADAcMRdAAAABiTuAgAAMCBxFwAAgAGJuwAAAAxI3AUAAGBA4i4AAAADEncBAAAYkLgLAADAgMRdAAAABiTuAgAAMCBxFwAAgAGJuwAAAAxI3AUAAGBA4i4AAAADEncBAAAYkLgLAADAgMRdAAAABiTuAgAAMCBxFwAAgAGJuwAAAAxI3AUAAGBA4i4AAHz3n1/xN9A8X1cAAPgiku4kDgHN83UFAGA0EUxXomn07QmuccIkDgHN83UFAGA0EUw/RdPomMShb2L0JA4BPfCNBQBgNJFNS4urA53wpQUAYDQRT0uLqwOd8KUFAGBAkVALiYsCXfHVHV8U6V9xFADgSWIn9CuOAkPzVR9fFPV1MY42xKpM4hAAcE78sv6Ko8DofNvHF3U9W5zGTWIZJnEIADghflZ/xVHgAXzhnyXK/DcxmjvEGkziEABwQvysTuIQ8Ay+888Slf7X+5HkNZ5bxBpYBWhYfEuzxWnAHeJ76JsIz+Nr/yBR6WeiYyY6ZqKDC8XUm3xoWHxLs8VpDCcWeBKHaEwsjwWCR/LNf4qo9L/i6Ccx4lcc5UIx9SYfGhbf0mxxGgOJpZ2JDhoTy2OB4JF88x8hyvwkDq2Lcb/iKBeKqTf50L/4Mvs6jyUW9U1005JYm0kcAp7EN398UeN/xdEMcYKfh8vFvJt56F98mX2dRxHL+Vf00aRYJMsET+XLP74o85M4lCfOmcQhLhGTbtqhf/Fl9nXuXKzim+imVbFOkzgEPIwv//iizO8v9HHaJA5xiZh00w79iy+zr3O3Yv3eRDdti9WyXvBgvv+DizJ/tNDHyX4nrhWTbtqhf/Fl9nXuUyzeTHTQg1izSRwCnsf3f3BR5o8W+jh5EoeoL2bcnEPn4ps8iUN0IpZtJjo+iRFWuSWxJJM4BDySEjCyKPOTOLRfnO/X4kIx4+YcOhff5EkcogexZr/i6IoYNIlDNCCWZBKHgEdSAkYWZf5coY9L+LW4UMy4OW9JLMnl4uPpU6yidexKrNmvOLouxk3iEA2IJbEo8HiqwMii0p+u9XEVvxlXiek24S2JJblcfDx9ilW0jv2IBfsVRzfFUKvcmFgV6wKPpwoMK8p8iUIfF/KbcZWYbhPekliSy8XH06dYRevYiVitX3F0Uwy1xO2JhbE08HiqwLCizJco9HEhvxlXiek24Q8Wb4B3oHOxitaxE7Fakzj0TYy2xO2JhbE08HiqwLCizJco9HEhvxlXiek24Q8Wb4B3oHOxitaxE7Fae9YrTrDE7YmFsTTweKrAsKLMlyj0cSG/GVeJ6TbhDxZvgHegc7GK1rETsVrZ6xWjrW+TYm2sDjyeKjCsKPMlCn1cyG/GVWK6TfiDxRvgHehcrOI3MZq7xXpkr0iMtoJNirWxOvB4qsCwosyXKPRxIb8ZV4npNuEPFm+Ad6BzsYrfxGjuFuuRvSIx2go2KdbG6sDjqQLDijJfotDHhfxmXCWm24Q/VSz/JA7Rs1jLdTGOW8ViZC9HjLZ8rYrlsUDweKrAsKLMlyj0cSG/GVeJ6TbhTxXL7wUYXSyzhW5DLEb2csRoy9eqWB4LBI+nCgwrynyJQh8X8ptxlZhuE/5UsfxegNHFMlvoNsRiZC9HjLZ8rYrlsUDweKrAsKLMlyj0cSG/GVeJ6TbhjxRrb/UfIFbaWrchFiNvOWKotWtYrJA1gsdTBYYVZb5EoY8L+c24Sky3CX+kWHurP7pY5kkc4laxGHnLEUOtXcNihawRPJ4qMKwo8yUKfVzIb8ZVYrpN+PPEwk/iEIOKZbbQbYjFmMShTTH02+AYZJXvEFNv8uHxVIFhRZkvUejjQn4zrhLTbcIfJlZ9EocYVCzzJA5xq1iMvOWIoRmDY5xVvkNMvcmHx1MFhhVlvkShjwv5zbhKTPckDjG6WO9fcZRBxTJb6GbEeuStSAzNGBzjLPQdYupNPjyeKjCyqPSna31cxW/GVWK6f8VRhhaLPYlDjCtW2lq3IRYjezli9Mr46Psr+rhQTL3Jh8dTBUYWlf50rY+r+M24UMz4JA4xtFhsy/0MsdiWuwGxEpM49E2Mno2Pv9fFOC4UU2/y4fFUgZFFpZ/EoUPiEn4zrhWTbtqfIRbbcj9DLLblbkCsxCQOfROjf8fHH+tew7hYzL75h8dTBQYXxf5EuY/zJ3EIKC2+Y75lzxCLbbkbECuxZy3ihG9iNDeJZbAQ8HiqwOCi2P+Ko3vEmX4woJr4jvmWPUMstuVuQyzGaXE5mhELY2ng8VSB8UW9/xVHM8QJv+IoUFp8x3zLHiBWehKHuFUsxjlxLZoRCzOJQ8BTqQLji3r/JrpXxKBfcRSoIL5mvmgPECs9iUPcKhbjkLgEjYnl+RVHgadSBZ4iqv5RcRWggvia+aI9QKy0te5ZLKFFbFUsjwUCJmrBg0T53ylOBuqIb9okDjGoWOZJHKJDsYQWsUmxNpM4BDybWvBQ8VPwTYwGqokvm6/b6GKZf8VROhRLaBFriineOclxzq84CjybWgBwp9iX7d+ZxWm/4ihNikX6FUfpU6yidawm5ncShzLECb/iKPB4ygHAbWJfNolDeeKcmeigMbE8M9FBt2IhLWUdMbm/4ug3MfpXHAX4qQ/xPwG4XGzNSogr0pJYm5nooGexllazjpjcSRz6JEZ8EiMAJooCwG1id3ZCXIj2xAr9iqP0L1bUmlYQMzuJQ39F37oYB/BLXQC4TWzQjoqr0JJYm7+ijyHEolrW0mJaJ3FoEoe+idEAf6kOAHBc7LXXxThGEetqZUuLaZ0mNv616XUWwDbFAgCOi633JzGCscTqWt/SYlq/idEAeVQNADgu9uB/RR+QLb48K2IQwE7KBwAAN4tcOxMdACcoJQAAAAxI3AUAAGBA4i4AAAADEncBAAAYkLgLAADAgMRdAAAABiTuAgAAMCBxFwAAgAGJuwAAAAxI3AUAAGBA4i4AAFDXf/7X/361+BsuIe4CAAB1ibvcQtwFAADqEne5hbgLAADUJe5yC3EXAACoS9zlFuIuAABQl7jLLcRdAACgLnGXW4i7AAD/+k9N8RnwPOIut1B2AYCnizBaX3ze88Tz1xGfwaaUNvNbnFlIpcvCNgUCAHi6iE31xec9Tzx/HfEZfJJC5rEWVzmtxjWHMZ+cRYsRnKBAdCxqfA/ijgGgSfFz9SuOUk7MbB3xGQ+2FpDmx8+0uNxRBS81nvnkvLcYxAkKRMeixvcg7nhQ8ZCNiZsDAEb3HpDmR+bt1fvVsbPWlLrOeNLMrLUYxwn2xB2LWNODuONBxUM2Jm4OqCy+cpXFhwF8sghI8z9f7TVsr5OnJ6WuM540M/MWfRTiFxTOit1oY+Lm6Fws55vopgGxJJXFhwGsmIel9O/Xn4cVuciP89dJV0gtOnq2eKJ5ixGU4BcUoEWRclbEIBoQS1JZfBh3iDWwCrRtnpTm/z6jneukKyxadHfo/Snej1CE2g1QXuyOq4mPAeqLb53vXVExp2a1nHlYSi36jmrnOukK7y1G9GNx/z/t/fjrCEWoMgDlxT6ukLgocIf4Hs5EByfEVK6IQewxD0upRd8hpa7zo9R1fqRLfWwxqG0bN7zRxWEKypji56INcU/wJPH2nxaXo2exlpM4RFdi8aqJj3mYePjLxcePaJ6UXi069it1naTgpZJ0zfcWI5q0fZ/bvRzjp3dMUdTbEPcE8EhRChsTN0e2mLjLxccPJx7vcvHxI5onpZNhqeClXgpeaiFded6ir0lfb/LrAPbygzemKOptiHsCeKQohY2Jm2OnmL4LxQc/TDx8BfEBI0ox6WRSKnWdueIXXEjXr/op5+Xc5NcB7OUHDwCuENvtNsQ9cbdYj3UxDjaljHQyKRW5yLsa13x3zacclm5v+w5zxrCLMgo3ix3NheKD6Vms5ScxAoBnSAFpEZPej2xL4/NPyVTpsh1JM/B1EjKHkc/GCG4WGeVC8cFcJeb90MzHmXvEmQA8QEpHqUXHrCv+XpGGzVv0FVLpsh1JM/B1EjKHkc/GCG4WGeVC8cFcJeb9KvGpADxASkepRcffrjj0yXzYq0VHOWWvXPZqF0g3/PWe80eSz8YIoK6IoaXF1QF4qnk6Si36Vnq3W5xZWtnrl71abeluc244fyT5bJgA6op4ekhcAgD+StFo3qLv16J3u8U5FZT9iLJXq23X3e4aTCZ7KQAA6EyKRvMWfb8WvWstRldT9oPS1VKLjibtusldg8kk7gIAQGfm0Wj+7waVvb10tdSioz27bnLXYPKJuwAA0LHGY1Lx20sXTC06GrPr9nYNJp+4CwAAHWs8KVW6vXTZ4lcuJf/20sicwewi7gIAQMcaT0qVbi9dNrXoaMOuG8sfyV7iLgAAdKzxsFTv9tKV5y36brX3fnYNZhdxFwAAOtZ4WKp6e+niqUXHrXbdTBqcOZ5dxF0AAOhY42Gp9u2l61f9lF123UwanDmeXcRdAADoWONh6Zrbu+ZTcqQ7ybmZXYM5QNwFAICONZ6XGr+94nY9767BHCDuAgBAxxqPTI3fXnH5z5tG5gzmGHEXAAA61nhkavz2ist53jQmteigNHEXAAA61nhkavz2ivv6vGlAatFBBeIuAAB0rPHU1PjtFbf9vKk3teigDnEXAIBs/+//00rjV+PBqfHbKy49b3rk+ZFFew2gHnEXAKBti5inLdrjNZ6dGr+94tLzfm1xAjWJuwBAJxYhR9Pm7cHEp6ak5dhoMZT6xF0AoA2L9KK12dqxuLHUnkeIak1akUWLbi4k7gIA1SxyiHa4sWYxUak9iTQFa8RdACDDIkvc0mDD4m15tWcQd2GNuAsAj7RIBS00OG/xUr3a6MRdWCPuAsCgFjv+WxrcYvEeztuIxF1YI+4CwEAWO/tSDXq0eI0XbSDiLqwRdwGgc4tNfGaD51i8/KmNQtyFNeIuAPRmsWXfaMDc4gvyav0Td2GNuAsAbVtszbcbkGOsL464C2vEXQBow2L/nd+AAxbfo5/WLXEX1oi7AHCtxQ77QANKWXy5flqHxF1YI+4CQGWLzfTeBlS1+Mal1g9xF9aIu9CW9It1S4ubAM5b7JtzGnCjxfcxtR74HYc14i7cL/1KNdXi5oB8i13yWgNatvjCvlrb/HbDGnEXbpN+nBpvcbvAmsW2+L0B3Vl8i39aw/xkwxpxF+6RfpkWLbpvsriZRYtBwMtiK7xowAA6+V77pYY14i5cLf0mzVv0NWNxe4sWg+CBFnvf9wYMpofvuB9oWCPuwqXSD1JHP0uLe563GAHDW+x33xswsOa/7H6XYY24C9dJv0ad/iYt7n/eYgSMZ77NXTTgOdr+4vs5hjXiLlwh/Q6lFh19WjzLq0UfDCPtbhcNeKC2i4DfYlgj7kJ16Ucotejo3+K5flp0QNfm+9rUgIdruBr4FYY14i7UlX6BBv4duvoZ04ZjmEYLFosybwA/Wq0Jl/4EQ2/E3XGloqxpWi+NGy3W4tUA5posDrIubBB3e5PqrKZpD2lcw5wDXzVZJcRd2CDuNi8VVk3TXm08iwf82KjNVA8t5YGNFkNhQ3uFwjsM28TdJqVieqZxtyf//KRnn7foY8PiW7xoVGWeB7UoRDktzoR37RUKry5sE3ebkQrodqMffn5+pElILTr4avHdfzXqMckD+f/+r//7py2Kz64WF4KF9gqF9xa2ibs3SeXya6NPfnvm0myYkyMWNeHVKM7cDmEj6L665i3OmSwG/7TogLn2CoU3FraJu5dIxTGz0T8/PwtpQlKLDnIsSsS8UYop7dkrvi6KTGop3661uMpkcW4chZf2CoV3FbaJu/Wlyvi1MRA/Px+laZm36CPHomi8GkWYzz4t6smixaA3G3H3R+ZFeKL2CoUXFbaJu5WlsrhojM7Pz5o0M+8tRpBjUVJ+GieZya4sqseixaBNuxLvT4sOHq69QuEVhW3ibjWpIKbGk/j5+SpN0bxFH5kWRebVOMYE9mNRN1KL7j3W4u7L4vo/LTp4rPYKhZcTtom7m1JRW7SvFuN/Gg9zwc/Pf37F391Kc5VadJBjUWpSYy9T14NFrXi1tbCaYzvuviw+7qdFBw+kUEBvxN1NqaidaTzSBbuiCLv9x92XNGO1521YKs9Jpq5tixLx03KS6leZF1l8dGrRzaOoFdAVcXdTqmiHG091wWYowu4ocfdHmrTUooN8is9hpq5Vi7Lw06KjhBR3vybeH4vbeLXo4znUCuiKuHtIqnQbjWe7YCcUYfct7sbRmejoRJq62hM4JiXoDLPXmEU1eLXoKyc/7ia1b4mmKRTQFXEXqrhgGxRZ9tf7keQ1viNp9lKLDr6yDzvD7DVjUQFeLfpKOxB3f1xzb7RIoeCbRX14bzGOS4i7UMUFFS2ybIY4oTdpDlOLDjbYh51h9hqw+Na/WvTVcSzu/rjyJmlIKhRqBZ8sKsPHFkO5hLgLVVxQ0SLLfhIjhpBmsvZ8DsIm7Ayzd6vFl/3Voq+mw3H3x/V3SxPUClYsasJai9FcQtyFKq6paJFuP4kRQ0iTecGUds8m7Ayzd5PFd/zVoq++M3H3x+K2f1p0MDC1ghXbpWCji3rEXajigooWuXZTDO1fms/as9o9m7AzzN7lFl/tV4u+q5yMuy+LR/hp0cGolAvefK0A271UIu5CFRdUtEi0kzj092ASfZ1LU1p7YvtmB3aG2bvW4kv906LjWkXi7ksLj8NFlAtmFt/9nxYdf233Uom4C1XUrmgRZCdxaCY6/oq+nqVZrTex3bMDO8kEXmX+db73G10w7v5o57moK9UK5eLx8r/1OWMoTtyFKmpXtIiwmyE2RryJ7j6lia03t32z/TrJBF6inS9yyrql4u6Pdp6OunorF496M6982PlnbX9czhiKE3ehiqoVLWLrJA5tiqF/RV+Hqs5t93rbfjXHBFaWvr8tfIvnWbdg3P3RyANSV2/lIr2W976ci9v4adFR1AUfkeR/Sv5IChJ3oYqqFS0C687IGufMREdv0txWmt6+9bb9ao4JrKyp72+lrPujnWekolQueqgY6Z2ct+irZvFxGy1OKGdx/fcW465176c/lrgLVVStaJFWD+XVOHMmOrpSdXr71s/eq1EmsKb0zb39yzsPusWz7o9GHpPqOqkY6YV8bzGigsUHfW1xWlGLj5i3GHGhez/9ycRdqKJeRYuQOolD+8X5M9HRiXrT271O9l7tMoHVpK/t7d/c2ln3RyNPSnXNV4z0Ks5fyI8Hy1p8xLzFiMlGVymLj0gtuq9y76c/nLgLVdSraBFPSwTUuNBMdDSv3vR2r/m9V+tMYB3pO3vj13aRclOL7qJuf1gu0nbFSO9hatFR+Su56+LzwTnjO/WEZ2yWuAtV1CtqEUzLRdO43K842rZ609u9tvdeHTCBFaQv7I3f2UXE/WnRUcftz8tFUsVor2ikl3DtVdzoOiNdNv/ie8d3Z/gHbJy4C1VUqmsRSUuH0rjoTHS0qtL0jqDVjVc3TGAF935hFym3VIurr7j3kblUe0UjvX5fX8KcMXsduGY6ZddZHRn76don7kIVlUpbhNE6cTQu/SuONqnS9I6gvY1XZ0xgBfd+YRcxtVSLq6+495G5VDNFI7118xZ9K3YNznH4asfO6kJ6tCGfrgviLlRRqbRFEq2WRePqM9HRmErTO4JmNl69MoGlpW/rLV/YRUYt2OIDVtz4yFytmaKR3rp5i751e8dvOHypY2f1YuBH64W4C1VUqm6RQSun0PiMX3G0GWlui09v95rZdXXMHJZ277c1P6BmyrzavU/N1dqoG4ffunTigXPnDl8knXjg3MYN/GgdEXehlhoFLgJo/QgaHzMTHXdLs1p2YgfRxparb+awtMG+sOIuH7RRN868dWfOfUlX2HuRwye2b/5o4z1dR8RdqKVGgYvoeVX4jA/7FUfvk6a07KyOo40tV9/MYWmDfWfFXT5IdePW0nHmrTtz7ku6wq6LHDurFwM/Wl/EXailRpmL3Hlh8ozPm4mOO9SY0qE0sN/qnjksbbCvrbjLZw2UjjNv3ZlzXw5cIZ2y66xezJ9uo8VoahJ3oZYatSwS5+WZMz71Vxy9VprPslM6lAb2W90zh6UN9rUVd/msgdJx5q07c+7L3iuk8bvO6sjiAbdbnEMd4i7UUqOKRdy8I3DGB/+Ko1dJk1l2PkfTwH6re+awtMG+ueIun6XScV/1OPzWpRMPnJvsvUIan39KX+YPmNPiNCoQd6GWGiUssuZ9/4ni+PhfcbS+GpM5oLs3WyMwh6WN9OVNWVfc5YO7q8exty6ddeDcZO8V9o4/7JpPOSbdW7N3OAxxN4/dD/vVKGGRMu+Luz/iDiZxqLI0k2Unc0B3b7YGYRqLGubLO8+623F3mEdmn7tLx7EX79hZC+kiOdfZNfik+Wd9bDHuPu3cycDE3Qx31y86VaOERcq8Ne7+iJu45DbSNJadyQGpVKWYyaKG+f5mZt0fwzwyu91aPQ68eAdO+WjXdXYNPil91lqLcfdp504GJu5muLV40bXiVSxS5t1x90fcR/07KT6Hw1KpSjGTRY3xFT6QdXt/ZI64tXrkv3hpZGrRcVT+ddLInMHnzT/uY4tx92nnTgYm7ma4tXjRteJVLCLmY+JumsCCczgslaoUM1lU71/hedCVdfkiVY87Ckjmu5eGpRYd9d3yoY0zIRcQdzPcV7noXfEqFhFzEoduEjdxVdyNv9mgUpViJovq+lu8yLo/LTo+SU/a7/NSwH0FJOfdS2O+jizurs9tnDm5gLib577iRddqVLFImQ+Iu2n2yk7gsJSpUsxkUf1+i/OD7o/0mJ0+LMWkAnJ5Ddl+/VLvxph6bvzoxpmWC4i7eW6qXPSuRhWLlPmkuBt/s02ZKshkltPpF/lw1o1DPNlNBWTjJUxdawOquvfTG2daLiDu5rmpctG7GlUsUuYkDt0h7qDaPaSpKzt7I1OmCjKZ5bT8RV6Lsinlrg1I0tM1+4zc4PICsvEeLrp+WnRc5caP7oLJuYC4m+fyysUYKlWxCJqTOHS5+Pj6cTf+5itlqiCTWU6z3+VFoJ3/OW+vwR+lR2vzAbnTtTVk7VVcO36Zez+9febnGuJunmvLFiOpVMgiaw4ad9OkFZ+3kSlTBZnMctr8Lr9n2sWRV3sN/ig9V4NPx/2urSHvb+PiyE97jbzYvZ/euDQ55qc2cTfPtWWLkVSqZZE1R4+78Tc5lKmCTGY5bX6dF7H2Y4uhn6SHavDRaMWFZWTxQi5aDLpcC/fQrPnkmJ/axN08F9YsBlOvlkXcvCPxxgdP4lA5acZqTNrIlKmCTGY5bX6dF8l23mLEuvRErT0UbbmwjMzfyUWLEXdo4R4alKYlteigGnE3z4U1i8HUK2cRN2+Nu/F3OWm6aszY4JSpgkxmOW1+oxcR99Wib116lgafiOakMlK/kizezFeLvpu0cydNmU/Lq0UHNYm7ea4qWIynXkWLxDmJQ5eIj5zEoULSXNWYrvEpUwWZzHLG+FKnp0gtOmDDVZWktZfzzP0cO6sL6dFGfcBmibt5ripYDKleaYvQOYlDlcWHTeJQIWmWakzUIyhTBZnMcnr/Xqf7n7fou9Xi/zT9atFHI66qJK29n2du5vCJjUvPNeTTNU7czXNVwWJIVatbRM/L4278XUiaokqz9AjKVEEms5x+v9rpzuct+hqwCLqvFn2048Ji0s5beuZOzpzbpvREqUUHVxF381xYrRhP1QIX6XMSh6qJj5nEoULSFFWapUdQpgoymeX0+O2e33Nq0deMRdB9teijHRcWk0be1XQbB+7kzLk32rjn1JVadHAhcTfPhdWK8dSucRFAK8fd+IxJHFoRg95E95s0P/Wm6BGUqYJMZlEdfcHTrc5b9DVM3G1XKib160kjb2y6jZw7mQ9etBjRg7Xbnh9fdHElcTfPVaWKUVUtdpEmJ3GotLj6JA6ti3GbYuhsZipNzoMoUwWZzKK6+I6nm5y36GueuNu0q+pJI+/txm2krpwW5/RgcecfWwzlDuJunqtKFaOqXe8iRFaIu3HdmehYF+O+icF+CUpRpgoymUU1/jVPtzdv0deJFHcl3hZdVU8aeXvTbRxrcZXeLJ5i0WIQNxF381xVqhhV7ZIXCXISh0qIK/6KozvFyW/+6fJjUIoaVZb5LKrZr3m6sXmLvq6Iu01L9aRySWnkHU63kdPinCEsHi216OY+4m6eS+oUA7ug6kWI/BVH94vz30T3OXGtFz8GBalRZZnPoja+6fOcdnFUS3eVWnT06a5pJMslJaWRNzndxscWg+BC4m6eS+oUY6td6yNDvonuDHHCJzGikH+u6MevLDWqLPNZ1Mfv+zyepRZ9lc3v59Wio3MXTyM7XFJSBnufoRRxN88ldYqxXfM7NIXTwuLS5fxzUb/KZalRZZnP0tJX/qelVPbeYnQ189t4tegYwmXTyBH1q8qQbzWcJ+7mqV+kGN7Fv0NTUD0oLlFNmop/Wv2PewQ1qjhTWtSfb/3UUjabtxhdweLTf1p0DOSCaeS4+iVl4HcbzrDRzFO/SDG8W36HXvE1X5xWU5qHf9pVHzo+Nao4U1raTwz78/X/LYYppBXPaYuPm7cYMZZK00gZqaRUqypjv95wmI1mnsoViifwO/QjTcI/bSa6OUyNKs6UFpIy2Kv9KQKb/8Hm9xZX/GbxEYsWg0a0d6K4WuWq8oSXHA6wy8xTuULxEA//KUqPn2Ygwu7kdYSD1KjiTOkJKXettXk1+GmL3rUWV1+3uOy8xYih7ZorbpCqSp3C8qi3HfLZYuapWZ54jif/FKVnnz9+JN1fcZQD1KjiTOl+87j1tc1rwrwths1bfMybxRXmLUbc5+I7yZku7lSzsFz8skEv7C/z1CxPPMdjf4rSg78/fiTdX3GUvdSo4kzpHvOU9d5i0JtFZVi0GDS7ePw9szgltehuwPW3tDFd3K9mYbn+ZYMu2FzmqVmeeI5n/hSlp1579ki6kzjEXmpUcaZ0jxSxFi26V6Rhiyrx3tLIn7MWXfP2umxTrr+3+VzRomq15fqXDbpgc5mnWm3iUdJP0XN+jeaPvPHUEXbF3cPUqOJM6R4pYs1b9K17H7moGO9tbczr9KbceIfvE0tDqtWWW142aJ/NZZ5qtYmnedSvUXrYr88bYXcSh9hFjSrOlO6R8lV+yvo6fl5ANlqMvs/iftZajJ4sul4t+krYnljuV6e8VHqdoHd2lnnqFCYe6Dk/RelJMx82wq64e4waVZwp3SPlq8yUtWvwvJh8bDHuEouPLtjiA0rYNb3coFp5qfRGQdfsLPNUK0w8zWA/RR8fZ35wfnxbhN1JHCKfGlWcKa1pbxhL4xflZdFidDmL6+9qe09/fWIpacbib5qSykvpClPvjYJ+2VbmqVOVeKZjP0XprDMtrnXa4rKv9rHrdTBHJN1fcZRMalRxprSalMTyw9j7+EWpmbcYsd/iOpktTv5rMWbRYlBN7zNGW+pUmItfM+iCPWWeOlWJZzr2U5TOara93+TrzvNF0v0VR8mhRhVnSqs5kMS2T1lUnp8WHZsWp2S2OPmTxch5ixHX2p40blanwtz+1kGDbCjz1KlKPNOxn6J0Vi8t7nunSLqTOEQONao4U1rNgRiWecp2/Um9+S3OXLcY/95i3B0yJ43bVCgyjbx70BQbyjwVShJPdtevUfrcky0uN/N1QL4Iu5M4xFdqVHGmtJoDMezAKYuilNPizAyLE99bjLvVgUnjUhWKTGsvIbTAbjJPhZLEkw32a5Qep9RDRdgVd/OpUcWZ0jpSBtsVw3JOWRSiry1O22NxhUWLQc1Ik7Y9b9ymQpFp+YWEu9hN5qlQkniyMX6N0lPMW/SdE2FX3M2nRhVnSiuYB7BdGWz7lEUVWmsx+pDFpVKL7lZtzxv3q1Bnenk5nyytkWW6ht1kngr1iCdrp8ylOynS4qKnRdidxCG2qVHFmdIKUvraG8DWzlqUoHmLEactLvtq0de8tXmjFRXqTHdv6dOkBbJMl7GVzFOhHvFwjVS6dBtnWlyrqAi74m4mNao4U1pail4H0tf8xEX9mbfX4FIWF3+16OtEmrfX1NGcCnWm03d1GGn+M1ucRk22knkq1CMerpFKl27jQItL1BFhdxKH2KBGFWdKSzuTu14nLkrQvMW4QhYXf7Xo682Zaae6VGfKlZre39ji0oS01uL+qM8+Mk/pYgTq3VcRdidxiDVqVHGmtLQzuSsVzPcWIwpZXPzVoq9PadqPzTzVlS41Y7y3mdLD9tjiGajPJjJP6WIEP3oseemed7U4eb8Iu+LuV2pUcaa0qJOJq1RJ2bD4iFeLvs6dnHzqKl1qBnt70+P00uK+aYlNZJ7SxQh+9FUf53e7t8Ul9ouwO4lDfKRGFWdKizqZuIrUkzXzi6cWfUNIk394/qlIqZlZfA2LtLg0D2YHmUcxooIGy/H8lgq2uPohEXYncYh3alRxprSc83Hr5OlrFpXq1aJvLJUmkDKGqDaL79EFLT4YvrF9zDNEJaJB9xbu+afntzj5QhF2xd0NalRxprSc81nr/BUWFmXt1aJvRGkCC84hxTRcbRbfketb3AecYPuYp+FKRO/qlfX5lc+3uOgdIuxO4hALalRxprSQIkHr/BVeFmUttegeWqk5pLxrq83i5W+qxS1CUfaOea6tRDxNwXK/uNTeFldpT4RdcXeNGlWcKS2kSMpKFzl8nUWtSy26H+D8HFJLqjZTwVm8or2016NAg+wd88zKEBR3/jdjcYXMFif3IMLuJA4xp0YVZ0oLKRKx0kX2XmdR9FKL7oc5Nodc4bfgLF7U21vcHvTMxjGPfc/DRK7aI8486vCvy/zE9xaDhhATLe5+pEYVZ0oLKRWxdl1nUQnnLUY8UprDzGmkoMV7uGip4CyO12hxQ/AYNo557HsGFfmpqLh0ZYtfr3mLESOKKZZ436lRxZnSEgrmq8zrLOphatH9eJnTSHGLF3LRUsGJP4Fy7Brz2Pd0K+JRV+LWP0k/je8tRgwtJmgSh3hRo4ozpSUUDFc5l1pUxZ8WHfxK07g9kxS3eDMXTcGBemwZ8yhDXYk81K14jE8WP5A/LToeI+ZI3F1Qo4ozpSUUTFZfL/Xw2pjv60xyDzUH6rBlzKMG9SPCUM/iST6xn4s5msQhfqhRxZnS08rGqpyrPbYw7pIzk9xAzYE67BfzqEGdiBj0V/RdIj7yr+j7JEbMRAfrYqYmcQg1qjhTeppY1SxL0yI1B+qwWcyjBnUiMlADKSju41ccfRPdkzhEhpgyk5aoUcWZ0tNkqmZZmhapOVCHzWIeNYj9IpBN4tBf0TeJQ2SLiTN1L2pUcab0HIGqZWl1LFBblB2owE4xjwLEfpHGJnFoJjomcYg9Yu4mcejJ1KjiTOk50lTj0gJZo4YoO/xsb/7+t7QUbPEBz2ObmEcB4pBIY295LI5O4hD7xQxO4tBjqVHFmdITRKn2zdfIMrXiW9lZpJe9La7CrRaLcmWLO3geW+083woQfBRR7G8Yi0O/4iiHxCSaRjWqOFN6ghDVhbRMFqsV38rOIr2cb3FdLrGY/Otb3Mfz2Grn+VaA4KOIYr9hLP749TrIGTGVkzj0TGpUcab0BAmqF2mlrFcTUtlZqTyL9NJ7i6ca1OJh81ucTzk23Hk2qw+siRz2Ke6+jnBeTOgkDj2QGlWcKT1KfOrLfL0s2f1qVp5FrGq/xX13aPEgixaDuIo9d56a1YeBRQibYlj8a/LqpZSY1kkceho1qjhTepTg1J20ZBbuftdWnkUM06q2mHQuZ9ud59rqwzAigf2Nu68uyorJncShR1GjijOlR0lNPUqrZuFu9qTKs0iD47V4Tu5m553nSdWHgiJ+zUQHFcQUT+LQc6hRxZnSQ6Smflm7Jqg8M4v02FeLZ6ABNt95VB8Oiew1Ex3UEbM8iUMPoUYVZ0oPkZe6ZvmaoPhAUTbfeZQeDong9SuOUlPM9SQOPYEaVZwp3U9YGoBFvJ/iA0XZf+dRejgkUtevOEplMd3iLmeY0p1STJKUumYR76f4QFH233mUHg6J1DWJQ9QXMz6JQ8NTo4ozpTuJScOwlDdTfKAoW/A8Sg+HROSSdS8X8y7ucpgp3UlGGkZaSqt5G/UHyrELz6PusF/krUkc4iox75M4NDY1qjhTuod0NBgLejP1B8qxC8+j7rBTJK1fcZQLxdSLuxxjSveQjgaTFtSa3kP9gXLswvOoO+wRMWsmOrhQTP0kDg1MjSrOlO4hGo0nrallvYH6A+XYhedRd8gWAeuv6ONaMfviLgeY0mxC0ais7J2UICjELjyPokOeSFeT+Z+vXi4Wsz+JQ6NSo4ozpdmEooFZ3NsoQVCIXXgeRYdvIlT9Whx8/cn1YgHEXfYypXlSHJKIhmR9b6MEQSF24XkUHb6JUDWJQ+JuA2IBJnFoSGpUcaY0jyw0vLTEVvlSShAUYheeR9FhU8SpSRyaxCFx91axBpM4NB41qjhTmkEQeggLfQMlCAqxC8+j6LAugtQkDv2Ko+Lu3WIZxF3ymdIMItBDpIW23JdShaAEu/A8Kg4rIkVN4tBMdIi7DYiVGHUt1KjiTGkG+ec50lpb8euoQlCCXXgeFYdPIj9N4tBf0SfuNiBWYhKHRqJGFWdKMwg/j5KW26JfRBWCEuzC86g4vInkNIlDb6Jb3G1DLMYkDg1DjSrOlGaQfJ4mrbh1v4IqBCXYhedRcfgrMtMkDn0SI8TdZsR6DLYiClQNZvUbmeeZ0rpb/epUISjBLjyPisNMBKZJHFoRg8TdZsR6iLt8ZVa/EXgeKy291a9OIYLT7MLzKDf8irT0K46uiEHibktiSUZaFAWqBrP6jcDzZGn1vQB1KURwml14HuWGSeSkX3GUrsTiibtsM6ubpB28A1dQiOA0+/U8yg2y7ihi/cRdtpnVTXIOP9Jr4E2oRSGC02zZ8yg3jxcJ6VccpUOxhJM41DsFqgazuknI4SW9CV6GKhSibP/5X/87tTgEE7v2PMrN40U8msQhuhULKe6ywayuE2+YS++DV6K8VIjUom/EXdbYuOdRa54tstEkDtGzWEtxlw1mdZ1sw4JXoiK1KMM86xaMu4vLvlr00Q979zxqzbNFNpJ1RxHLKe6ywayuSMFGtiHxVlSkFmUoG0fnV3tvMYh+2L7nUWseLIKRrDuWWNQxllWBqsGsrpBq+MiLUYta9E3ZOLq42nuLcScUuQj57ODzqDVPFZFoEocYQiyquMsas/pJijRSDQvejVrUom8KZtH5peZX+3jwmFLXIZ8dfB615qkiEsm6w4l1ncShfilQNZjVT+QZNng9qlCLvikYINOlFldbO35AqeuQzyY+j1rzSBGGJnGIgcTSirt8ZFbfpDAjz/CRN6QW5WhTqQCZrvN+qbXjx6xdLR2ft+jjBJv4PArN80QSmsQhhhML3PsSK1A1mNU3kgxfeUmqUI42FUmG6SIfr7PRdcDHq6WDH1sM4hD7+DwKzfNEDJJ1hxZrLO7yzqz+lWKMJMOG4u9J2av1SjnadD4Tpit8vM5G1zHvF5wfWWuvkRxgK59HoXmYyECTOMSgYpm7XmgFqgaz+pfUQab0qhR5WwpeqmPK0abzgTBd4f0iG11nzK+Z/p2OvCyO/7ToYCdb+TwKzZNE+pnEIcYVKz2JQ91RoGowqzMpcjw9dZCn4AtT6jp9S+VIRfrkfBpcu0I6/rH3jMWVU4vume1ectjN51FlniSij6z7GLHe4i5zZnVG5GCv9M6cfG2KXGQEKtK682lw7Qprx89LV5636Pvr6wC+sqHPo8o8RuSeSRxidLHekzjUFwWqBrP6K+UNkYNdirw2RS4yAhVp3fk0uHaFtePnpSunFh2f5Ixhgw19HlXmGSLxTOIQzxCrLu6SmNVf8gbHpDfnzMtz/gqDGLQiFQly5y/y8Qrp4OJ4EfOLf71+5jDW2NPnGbTKMBdxZxKHeIxYeHGXxKxOUtiQNzjg5Ptz5tzRDFqRUpA7k+VOXiGdPr/Cx4MFza//9SPyR/KRbX2eQasMcxF3ZN2niuXv8QVQoGowqxN5g5MOv0LpxAPnjmnEolQkyJ28Qjo9XWF+JB0sa9dH5I/kIzv7PCOWGOYi6EziEA8Tyy/u8mJW5Q1KOPwWHT5xWIMWpfNZrvjp6cj8YFnzj8j5lPyRvLOzzzNoieElUs4kDvFI8RJ09xooUDWY1RP/dzkeIvMNScO+jpw7dtbImixKKYYtWnTnOXPuj8Mn/kjnzk9/P1Jc+ojMT9kenHrXBjyczX2eJksMpUTEkXUfL94DcZcfZlXc5ZvMNyQNyxmc7B0/vvaK0jxlLVqMyLM496dFR4YDp8yl09MV3o/UsPdTNganrrUB2N/naa/EUErkm0kc4sHiVejrZVCganj8rAobfJX/kqSROYNf9o4fXypKbdSlRcpatBi0x7Er7B2/sDg9/ZmOVLL3g+bjt1ucwIz9fZ6W6gsFRbKZxCGeLd4GcZfHz6qwwVfpJcl5VTKHJXvHP0IzdWktYr0f2SWdnnmRXYM/mp+e/p2O7LLrxF2Df6TxGy2G8sYWP08z9YWyItnIuvyKF2IShxqnOlXy7IlNSUPYYMP8Pfn6qmQOe0mDM8c/RTN1aS1lfTy4S7rC1+tkDpt7H5+OLFp0Z9t77q7BSTrrvcUIPrHLz9NMfaGgyDSTOASzFyP+bpzqVMmzJ1bSIF/m25I57EcamTn+QZqpS2spa+34Luki25f6OuBdOmW7xehsJ0+nNrv8PM3UFwqKTCPr8le8FpM41DLVqZIHT6ykwS6Zb0vmsB9pZM7gZ2mmLq1Fu7Xje6XrrF3q64CP5mettRia7eTpXMBGP08z9YVSIs1M4hD8ijdD3H2yB0+spMEuZV+YdLVSFxxNG6VpLd2tHT8gXer9ahtd2+YnvrcYtMf5K3ABG/08bRQXCoo0I+vySbwckzjULNWpkqdOrLDBAaXemXSdIlcbUxulaS3jfTx42MerpYPvXQcsrvZq0Zfh2FlczF4/TxvFhVIix8i6rItXRNx9rKdOrKTBAUVem3SRk9cZXBul6WPM+3jwjPcLzo+kgyctrpladK/bNZgb2e7naaO4UESEmEkcgk/iLWn8PVGdKnnkxMobHHPytUmnn7nIUzRTmhZJL/2Zjpw3v+Z7i0ElLK68aDHoTc4YWmC7n6eZ4sJ5kWBkXb6JF2UShxqkOlXyyImVNzjszMuTzj18hWdpozotwt7iz1Lml5236K5g8UE5Lc6kVXb8edqoLJwX2WUSh2BdvCvi7gM9b2LlDc44/P4cPvG52qhOi8iXWnQXsrj4q0VfTYtP3G5xDq2y48/TRmXhvMgusi554nWZxKHWqE6VPG9iRQ7OSO/PrrfowCm0U50Wqe+nRcdAFg/43mIcDbPpz9NMZeGkCC7iLtnijRF3n+ZhEytycF56i1KLjk/yR7LUTHVaBL+fFh3r8kdCKTb9eZqpLJwRqUXWZY94aSZxqCmqUyVPmlipg1Lm79LG67QY9tOigxzNVKeUXfMT7K7BUIR9f55mKgtnRGQRd9kp3htx91GeNLEiB2Vtv1Gpd2MMW1J1urVApeA6b9G3Ln8klGLfn6eBssJJkVdkXfaLV2cSh9qhOlXymIkVPChu/lK9WnR430q5u0Cl1PreYsSKzGFQkK1/nrvLCudFWBF3OSTeHnH3OR4zsbIHxaWXaqPFUI65r0ClvJrT4pxfG11Qj61/nvvKCkVEUpnEIdgpXqDWXiHVqZJnTKzsQVXpBXtvMYJj7ihQ87CaWvSt9L5ajPg7Jg5Bfbb+ee4oKxQUMUXW5YR4hyZxqAWqUyUPmFjZgwvMX7PUoo/DLi9Q86T6atHx12LMvM17X4PhGnb/eS4vKxQUAWUSh+CQeI3E3Sd4wMTKHlwmvWxeuTIuLFApo6YWHd8szpq3GAGXsPvPc2FZoaxIJ5M4BEfFmzSJQ7dTnSp5wMTKHtCrSwrUIqP+tOjIszh33mIEXEIAyHNJWaGGiCayLoXE+zSJQ/dSnSoZfWJlXehb5RpVKqAurvNq0QeXkAHyVK4pVBKhZBKH4LR4pSZx6EaqUyWjT6y4C32rVqMW0fSnRQf0SQbIU62mUE/EkUkcgkLixZrEobuoTpUMPbEp64q70KvSNWoRcV8t+qBnYkCe0jWFC0QWkXWpI16vSRy6hepUydATK+tC907XqEWyXbQYBP2TBPKcrilcLFLIJA5BafGGibtDGndiU9YVd6FjR2vUItZ+bDEUhiAJ5DlaU7hLpBBZl5riJZvEoeupTpUMOrGyLgwir0YtcuxGixNgOMJAnryaQiMif0ziENQR79kkDl1Mdapk0ImVdWEQeTVqkWnnLUbA6ISBPHk1hUZE+JB1uUS8beLuYAadWHEXxpFRphYR96dFBzyGPJAno6DQiEgekzgENcXbNolDV1KdKhl0YsVdGMegZQrKkgfyKCj9iNgh63KheOcmcegyqlMlI06srAtDGbFMQXEiQR4FpRMROCZxCC4Rr524O4wRJ1bchaGMWKagOJEgj4LSiQgcsi6XizdvEoeyxWnH3lvVqZIRJ1bchaGMWKagOKkgj4LSg0gMsi43ifdvEofyxDniblOGm9iUdcVdGMRwZQpqEAzyKCjNi7gwiUNwuXgFxd0BjDWxsi6MaaxKBTUIBnlUk+ZFXJB1uVW8hZM4lCFOEHebMtbEyrowprEqFdQgG+RRTZoXcUHc5W7xIk7i0DcxWtxtylgTK+7CmMaqVFCDbJBHNWlexAVxlwbEuyjudm2giZV1YVgDVSqoRDbIo5q0LbKCrEsb4nWcxKFNMVTcbcpAEyvuwrAGqlRQiXiQRzVpW2QFcZdmxBs5iUMrYtAkDu2iOlUy0MSKuzCsgSoVVCIe5FFNGhZBYRKHoAHxUk7i0JvonsShvVSnSkaZWFkXRjZKpYJ6xIM8qkmrIij8iqNwWrxS516quMQkDs1Ex684upfqVMkoEyvuwshGqVRQj3iQRzVpUqSEX3EUSoi3ahKH9ovzJ3FoJjpOvrqqUyWjTKy4C8mYX4RRihVUIiHkUUqaFFlhEoegkHix/oq+bHHaJA79iqPnX13VqZIhJlbWhWTYr8MQxQrqERLyKCXtiawwiUNQVLxen8SIb2L0JA79iqPibrOGmNhh9/ewU/ouDPh1GKJYQT1yQh6lpD2RFWRdaoqX7JMYsSmGTuLQJA5N4tBhqlMlQ0zssPt7Hu8//+t/99ji7ssaolhBPaJCHqWkMREUJnEIKosX7q/oWxfjxN3uDDGx4i6dWqTEkVo8YUFDFCuoR1TIo5Q0JoKCrMsd4uWbiY5PYsRK3I2/z1CdKhliYsVdOrKIhQO3eOBShihWUI+0kEcpaUkEhUkcgmvF+/cmur+J0eJuy0wsXGIRBTNbnLwp/a97Wvhf+hy4/1yKFWySFvIoJc2IlDCJQ3CTeBH/ir5NMVTcbZmJhfoWITC16D5qEXR/WnTcquwz/kux+uS//ue/Xy3+5sEEhjxKSQMiH8xEB9wt3sj94vwzVKdKTCxUVjz+LSJuatHdgOKP/A/F6hNxl0RgyKOUNCDywa84Cm2I93KnOPkM1akSEwvVLFLfT4uOExYR99WiryVln/ofitUnbcbddFfzFn1UIzPkUUoaEPlgEoegJfF27hFnnqE6VWJioY553nu16DihVMotcpGvyj67YvXuQJjcO36XdPGvLU6gKLEhj1ICtClVJwWqLLMKFcyTXpmwVy7r/ih1na/KzoB6NXcsQO4dnyldNrPFaRQl7uZRR4BmKVA1mFUoLWW8gklvHlDPZ9SCl9pWdhLUq+RwejxwyrZ0wY8tBk02uihC3M2jjgDNUqBqMKtQWsp4RWLePJq+WnScUPBS28pORUf1qmqum1987/WPnbUhXTC16FiROYwDxN08/dQR4HEUqBrMKhRVMOClUJpadJxW/IIbSs3GP5qvVynLzVv0FXLm4sfO2paumXnZXYPZRdzN03wdAZ5LgarBrEI5KdqdTHcpjqYWHYVUuuxHRSYkNF+vUpabt+gr4eSVD59Y0O33cPsN1CPu5mm+jgCPpkYVZ0qhkJTrzqS7FETnLfrKqXfld+fn5F/N16sUpeYt+k47edkz5xZ0+z2kG5i36OucuJun+ToCPJoaVZwphUJO5roUQect+oqqff13J2fmX03Wq0Vwem8x7pyT1zxzblm330a6gfcWI7ol7uZpso4ABDWqOFMKJZxPdPMUWi+IXvARH52cnNBevVrkpZ8WHUVzXbrU4QueObegdBv33sn8NuYtursl7uZpr44A/EuNKs6Uwmkpy52Jc9cE0Qs+4qPz8/OP9urVIi/9tOgolzDTdQ5f7eTppTR4G4sWI7ol7uZpr44A/KFMlWU+4ZwU5E5muRREq2bR9494P1JJgVlqr15tJKWNrnzpIocvdfL0Uua3ceOdfLyNxZ/9EnfztFdHAP5Qpsoyn3BOgRQ3SbFz3qKvkI+X/XiwhjIT1VLJ2o5J27050hUOX+fk6UXM7+HVouNyi9v4aYvjrz/7Je7maamIAHygTJVlPuGEFOHOprhJSp7zFn0lfLxmOrg4XlyZiWqpZG3HpO3er9LpRS4Sf18rfXpq0XGHjTv5eLBH4m6elooIwAfKVFlNzmfaFpdtcXUopPjbNU+e7y0GnfDxUulgatFRWpnpaqlkbcek7d5t6dzDV/hx/gpnzD/91aLjJht3sna8O+JunpaKCMAHylRZl8znfJvbVIv7g0Nqv0iLFDpvMWKPjXNTV2rRUVqBGbukZOX4mpG+DtiQzj12+o/zVzhs/tHXf/qajfvZ6OqLuJunmSIC8JkyVVa1+Uz72l5a3Ddku+DlWaTQRYtBebbPSr2pRUdRBWasWsna62tG+jpgTTrxwLkv569wxvzTP7YYd62NT9/o6ou4m6eZIgKwSqUqqPRkpu3smRbXKm3xKe8txjWpdg5hr+tfm/k78N5i0LqckWnM15HHFJi00iXrsO2MlHrXBmx4P3HXddLp+aeUNb+BtRZDr7L90RtdfRF38zRTRABWqVQFFZ3MtJd9bzFipt6WOt/iJlOL7makubp9xkhufFsW78Nai9G/1o7PpTFfRx5TYNKKlqwztjPSdu+GdGI69/3IhvngnPE1LO7hY4uhV9n+3O3ejoi7eZopIgCrVKqCCk1m2sXOW/StqLelPmDXnV8sTVRq0cGtWnhbFi9G8RYfU06BSStUss7byEip62PvtvmJ6d+pvcas2TX4ejfe28bnpq6PvX0Rd/M0U0QAVqlUBZ2ezLR/TS06vqm3pT5m8RQ/LTpulWYptejgbk29Jz8W70mRFpcup8CknS5ZpaxlpHT8veur+bmLFiPW7R1/i7tub+NzN7q6I+7maaaIAH1Jm5i9Lc7fRaUq6NxknlnNelvqw848TnFpflKLDtrQyHuyYfH+HGhxoXLKTFoD9X8tI6XjH3u/WpyeWnSv2zX4Lnfd5PbnbnR1R9zNc27fAzxK2ricbHG5fCpVQScm8+Q61ttSn3T4iQpKk5NadNCMFt6TfI28SGUm7UTVKuVjRkoH37tyLE5/tej7Zu/4W6SbvPg+P35oOphadPRM3M3TQAUB2pe2LKVaXDeTSlXQ0ck8vny/Gtl/vzv5XCelaZm36KMl974nezXyLpWZtKNVq5S1jLR2PMf83NSiL8PilMWfLUi3dP1dvX9uOpJadHRO3M1zdwUB2pf2K/MWfTsdv4hiVcr+mTy+an81sv9+V+Tpjklzklp00J67XpJjGnmjykza/qpV1lpGWjueI52bWnRkWJy1+PN28/u55ZYWH53+nLdXV+/E3Tx3VxCgcWmzcna/8mt+wR3XVKxK2T+TR9brk/n+O/173l7DblHkAfdaPP5Piw6adMtLclgjL1WZSdtftcr6mJHSwcXxHPNzXy068szPSv9OR+61uJ+fFh0XWtzAosWgIYi7ee6uIEDjymxW/krX3HFlxaqU/TO5b6XepG331xYn3CE94+HH3GXx4D8tOmjYlW/ISe28V2UmbX/VKus9KaUji+OZyp6eWnTfZHEzPy06Lre4jdSieyDibp67KwjQsrRTObtZ+WR+8e/XV6xK2TmTuQv0V9pt72px8k3Sk+592L0WT/3TooO2XfN6FNHIq1VsxnZWreIWeSn9OT+4S8HTU4u+m7R8M68WfWMRd/PcXUGAlhXbrKxI108tOt4pVqXsnMnvS/NJ2m1vtBjakmMPu23x1IsWg+hBjdejkkZesGIztrNqFTePTOnf6cgBJ68wP/3VouMmTd3Mo4i7ee6uIECz0k7l/GblP7/i75n5p2x9kGJVyp6ZzFqaT9JuO7X5wdeYBh172HfpSbdbjKYTpV6PC7TwjqXpKjBje6pWDYs4l1p073fyCun0w1c4Y/HR6c90hMuIu3nuriCMKsLNp3hDF0ruVDLeh6zPUq+KyJ7GtChf1iVbC1vwbaUeOT3pxxaD6E2Rd+MaLbxshacru3DVME90qUXfIScvcvL0k9KnL1p0cyGb7Dy3lg9GFclmEofoTdmdSrwN4m4L8qYxrciXRdmjhS34V2eeOj1gpRYfw33OvB5Xuv2dSRNVbK7yCldVot3LfB7mLbq5kE12ngbKByOJTDMTHfSm7E4l3oaMuLv1iepVEXnT+H059rt9C57jzIOnB7y+xR1Q2ZnX40q3vxjlJyqvcHGBRcr9adHB5Wyy8ygflBOBZiY66E3xnUq8EJuvxPcPVa+KyJjGtBZby7Hf7VvwHGcePD1gIy1ui3LOvB5XuvcdqDJLGYWLywi6jbDPzqN8UEJEmb+ijw4V36zEOyHutiBjGr+vxSH3bsEzFXn29KRlH3Z+2QMtrsIJRV6PC9y46GmKCs9SRuGCp7HVzqN8fBIb829i9IPFRPwVffSs+GYlXo68uLv6uepVEd+m8ftCHHXjFjxfqWdPD3vN884/rmyLD2jJjfdW6vWobcAp+la44IHsufMoHzOxH98jznykmIK/oo+e1disxPvx7Q35/tFK1nnf5vD7KhyVtuC37MIzFXz82593fgPXt7iJCi74iA0F35B6bpyiWvPzrXDBA9l253lY+Ygdd1Fx6SeJJ5+JDoZQY7MSL4q424Jvc/h9FY5KW/C7NuI5Cj5+a8+7uJ/rW9zHCcUveEDBN6Seu6ao4uR8K1zwQPbfeYYuH7G/3i/OXxfjfsXR0cXT/hV9DKTSfiXemM135vtHD12yLrI5h9+X4Jy0C79+I56p7Ay0/7xfzR+htRa3eK2yb0gNN05R3cnZrF3wQHbheYarHbGhPiQukSfO+RVHRxRP+EmMYCD1Nivx0oi7t9ucw+9LcNpdG/FMxWeg8eetJz14pRYfc4fiL0lZN05R3ZnZrF2wLf23SY/0XyhtI55noNoRW+lNMbScuO4kDg0kHuyTGMFw6m1W4tURd2+3OYffl6CEG7fjXxWfgfSwbT7vleZTcbjFtW5V/CUp6665qj4tm7ULPpqn3NSir3+243mGqB2xiX4T3ZXFh/2Ko/2L5/kr+hhXvf1KvEPi7u025/D7EpSQtuPX78i/Kj4DLT8sxxR/Scq6632rPi2btYsnWKTWwy0u1z/78jz9147YQc9Ex1XiU3/F0Z7Fk8xEB6OrulmJl0ncvd3mHH5fghLSdvyWTfm2GjPQ7MNyTHpJyr4npdzysl0xJ5u1iydYpNZjLa41BBv0PD3Xjtg7z0THHeIO+k+G8Rgz0cEDVN2sxPsk7t5ucw6/L0EhaUeeWnTcrdIMNPiknFHpPSniljftignZrF08wSK4ZrY4eUT26Hl6rh2xd/4VR28SN9F5OIxn+BVHeYyq+5V4q07G3R89V60mbE5g1hIUkjbl8xZ996k3A009JifVe0/Ou/41S7NRd0I2axc8kJ16np5rR+ydJ3HoPnEfA8XdOMRj1N6sxIsl7t5ucwKzlqCotDWft+i7Q70ZaOcZOa/ee3Le9e/YRbOxWbvggWzW8/RcO2Lv3FLW/RGHuhK3PhMdPEnt/Uq8W+Lu7TYnMGsJKkgb9HmLvmtVnYHFA/606KA36T2p9KqccfHbdelUbJYv2Kv3/8Cz/XqengtH7J3vzmZxE7/iaCfipt9EN09Se78S75a4e7vNCcxagmrSNn3eou8qtWdg8XQ/LTroTe1X5bCLX61L52GzfMFe4u4z9Fw4Yu98XzaLj5+Jjk7ETc9EB89zwX4lXjJxtwXrc5i1BJWlzXpq0XGJ2jOweLRXiz66UvtV6cWl87BeuxheiqY1WnxGb2zc8/RcOGLvfFNIi8/+FUc7ETc9Ex081QX7lXjV8uLu1p30XLVasT6H3+f/KncFwmtm4K6no6BrXpXGXT0J67WL4S0CatkWn9Eb2/c8CschsW2fiY4exB3PRAcPdsGWJd62b+/b9ztRtc5bn8Pv83+hWzLhlTNw8aNR1pWvSrOunoT12sXwFgG1YIsP6JAdfB6FY6fYsP+Ko/2I+/4VR3m8C7Ys8c6Juy1Yn8Pv83+tFAgvy4StzQAt87ZcPQPrtQseyD4+j8KxR+zWZ6KjH3HfkzgEl2xZ4rUTd1uwPoff5/9a4i4te/jbcsPjr9cueCBb+TwKR7bYqv+Ko72Ju5/EIbhk1xKvnbjbgvU5/D7/lxN3adbD35YbHn+9dsED2crnUTiyxVZ9Eoc6FA8g6/LXBbuWePPE3Rasz+H3+b/clXG3wcenZU9+YdKzX/r467ULHshuPo/CkS226p0HxXgGcZe/Lti1xJsn7rZgfQ6/z//lxF2alV6YB74z9zz4eu2CB7Kbz6Nw5Il9ev8pMR5D3OWvCzYu8eZlvHtfbkbVOm99Dr9M/rVS0L0m7qZnb+Tx6cIz35n01Fc/+Hrtggeym8+jcHwTO/RfcbRb8RjiLn9dsHGJN0/cbcH6HH6Z/AtdnHV/tPPsdOSZr81tT71eu+CB7ObzKBybYnv+K472LJ5kEocmcaiC+ADadsHeJV4IcbcF63P4ZfKvssi6Py06qkkPfvuz050Hvjl3PrL6D79ssvOsb3qIvfkkDvUvnmcShyZxqD1xf1R2wd4lVlTcbcH6HH6Z/ENyImsas2jRXV+NB+chHvjy3PnI6+XrYv/1P//90+IPuINdcp5mqkaDYm8+XOKKp5rEob8HWxa3S2kX7F1iCcXdFqzP4ZfJP2SRYHe1uERl6anLPjgP8bSX5+bnXS9fV3plXYm3cfNlerXoGIVtcZ42qkaDYmM+iUMDiQebxKE64jNqik/inAu2L7Fg4m4L1ufwy+QfskiwmS1OvkSNp+ZRHvUK3fyw6+XrMmMnqJEsViq16O6fTXCeBqpGa2JL/iuOjiWe7VccbVLcYlFxaWYu2L7E7Iu7LVifwy+Tf8gix661GH259Mhln5pHedQrdPPDrpevy4yXmoaRlma7xej+2dHmaaBqNCX24zPRMZx4vJnoaFvcazXxMc9zwfYlpljcbcH6HH6Z/BE98JEp7jlvUXrS2x52vXxdZrzUNIy0NIu26HoNHoC4m6eBqtGO2Iz/iqPjiuf8K/r6Efd9k7iJ/l2wfYkpE3dbsD6HXyZ/OOl5n/PIVPKQF+n+x1wvX5cZLzUNIy3Noi16X38OQNzN00DVaEdsxidx6AHigWeiY1zxnNXEx/Sm9iYmZkfcbcH6HH6Z/LGkh33I81LVQ96l+x9zvXxdZrzUNIa0Lmurs9HVKXE3TwNVox2xGX9S1k3iyX/F0eeJ579EfGQzam9i4rHF3RakOXybxi+TP5D0pA95Xmp7wrvUxDOu1K7LpMg0Umrq3XxRUou+mY2uTom7ee6uGk2JzfhTw148/Ex0sC5mqpy47h1q72PiCcXdRqxM45fJH0V6zCc8LNcY/nVKD3jzM67UrsuMF5kGkBZle2m+DuiOnXqeu6tGU2Iz/uyYF1PwV/SRJ2atkLhofbX3Mf88TMb1v9+GqlXEyjR+n//+pWcc/km50vBvVHrAm59xpXZdI+WlkSLTADLXJWdMX2zQ89xaNVozhYt/xdHnief/K/ooJ2Z2pzi5tH8uXXkrk3PxNGZrmKpVxMo0fp///qVnHPsxudjYL1V6uvsfcKV2XWO8vDSAtCjb65I5rC9253lurRqtmdLEH9HxPPH8n8QI6ohZPiEutFOcXHM38/XiacD2MFWrjJVpzFqCng3/gNxlyFdr/lCvFh03Wqld1xgvLw0gc1Eyh/XFpjzPrVWjTbHv/xVHnypm4a/o4xIx6UfFVb6J0TU3NNsXT70bY4KqVcqnmcxdhW6N/XTca6S3Kz3LvEXfvT4VrssMGZm6llbk66JkDuuLHXmeW6tGs2LrPxMdjxRT8Ff0ca2Y/XLiuunKNbc1G1dOXWsD/lC1SlmZyR1r0ZtRn4tGDPCCpUd4bzHidiuF6wIpLw0WmbqWuSJp2NeRfbEdz3Nf1Whc7P7/ir5DTp7egtckLEQfzYiFOazOziZd9ucT4tCvf7syP1TVKmV9JncvSg+GfCia0t07Nr/htRZD27FeuGobMi/1LmdR0pivI7tjF57nvqrRhdf+fyH69ogzB028P6KbxsTy7FJni5Mu+/MJcWjy7/H8T1S1Slmfyfm67Fiatg32OLQpvWZNvWnzu8pvcXJr1gtXbUPmpd7lLErOmE7Zf+e5r2p05JUCFqIvT5wzSiyMh/kkRtCDWLOFOnudfy/7+5L8e+S3vY5/p2qVsjmTR5amYYM9Ds2av2lnXrbFdS5r8fGNu+knYODU1Km0IhuLkjOmX7bdeTa3O8y9ssBC9GWIEwYKhPE8f0UfPaux70nXfL0k//45tdeYXKpWKd9m8vgaNWaYB6EL8/ft8Cu3uEilFh/WnW+1q5KBU1Onvq5IGrA9rF+23XluKhn9eoW6DTHuTXQPFwjjqX7FUXpWfCeULvixxaB8qlYpGTN5aqXaMMAj0J35W/dq0ZFtcfrJFhcdRkbtqmHg1NSjtBxrKzIfsDamd7bdeW4qGb2LbLcuxs1Eh0BI84rvkNIF31uM2EXVKiVvJs+u1626vnm6Nn/35i26OSOvdhU3dnDqztflSAO2h3VNqMhzU8kYRkTYPeJMaFWNndn8mqlF316qVil5M7lYtZ8WHc3r8Z4ZzPwlTC36OCyvdhU3dnDqzsZypK61AcMQKvLcVDJGFYl2UwyFhtXYlsUX4PxXQNUqZc9MplcitehoVV93y/C8kCXtqV0FPSE+dSQtR2rbx4ckVOS5qWQMLHb062IcNKzpPZmqVcr+mUwvRruvx6SX++RRFq/lq0Ufu+yvXUU8IT51JC3HRouh4xIq8txUMoCWNb0bU7VKOTST83fj1aKjGY3fHk+2eDlfLfrId6h2nfecENWFtBxrLcYNTdzNc1PJABrX7m5M1SrlxEzOX4+m3pBmbwzmvKWnnKhdjGeRcl8t+kYn7uZRMoAVjW7IVK1Szs3k/PV4tei4T2v3Axu8qMedq10wDHE3j5IBrEi7sbb2ZKpWQacnc/GS/LTouFwjtwFUd7pwwRjE3TxKBrCuxQihahVUaDIvfk/ePyV99HsXMJpChQt6J+7mUTKATc2lCFWroHKTOX9PXi06Slt8ynuLccCoyhUu6Jq4m0fJAL5pK0uoWgWVnsz5q/Jq0VHU4iPmLUYAAytduKBT4m4eJQPI0FCiULUKqjOZ87cltegrZHHxV4s+YHh1ahf0RdzNo14AeVrJFapWWXXmc/62fGwxDuCAOoUL+iLu5lEvgGxNxBVVq6zK8zl/Z+YtugEOqFy4oAvibh71AsjWRGJRtcq6ZD4Xb85Piw6AAy4pXNA4cTePegHsdHNuUbXKMp9AdxQuEHdzqRfAfovE+9Oi4wKqVllpPk0p0AtVC8TdXOoFcMgi7r5a9FWlahVnSoG+qFog7uZSL4ATFnH31aKvElWrOFMK9EXVAnE3l3oBnLaIuz8tOipRuMoyn0BfVC3++q//+e/3Fn3jEnfzqBdAOeJur0wp0BdVi1+LlJtadI9L3M2jWADdUbiKM6VAX1Qtfi1S7rzFiEGJu3kUC6A7CldxphToi6rFr/d8u/hzVOJuHsUC6I7CVZwpBfpyedVKCepji0FcbrEQixaDBiXu5rm8WACcpXAVZ0qBvlxVtRbxaa3FaK61WIX3FuMGJe7muapYABSjcBVnSoG+1K9ai+C03eIcLrRYgo8thg5K3M1Tv1gAFKZw1WBWgY7ULFmLyDRvMeLX2nGqStOeWnT8Wjs+GHE3W816AVCeqlWDWQU6UrNkpbCUWnS8+TqAGtK0r03+RtdIxN1sNesFQHmqVg1mFehIzZKVwtLXvJQ5jILSnG/M/HbvMMTdbDXrBUB5qlYNZhXoSwMl6yGxqilpzjem/euAMYi72WxxgL6oWjWYVaAvd1etlKmGj1VN+TrnacDGmDGIu9nuLhYA+6haNZhVoC+3Vq3nZKrWfJ32NGBjzBjE3Wy3FguA3VStSkws0JFbS9ZzMlVrvk771wHDEHez3VosAHZTtSoxsUBH7itZKVA9IVO15uvMfx0wDHE3233FAuAIVasSEwt05KaSldLUEwJVg7YnP/WuDRiJuJvtpmIBcJCqVY+5BXpxR72ap6knBKoGbU9+6l0bMBJxN9sdxQLgOFWrHnML9OLyejWPUk9IU23anv/t3sGIu9kuLxYAxylZVZleoBfX1quUox4SpZq1sQqp62PveMTdPa6tFwDHqVdVmV6gFxfWq685aruXgtamOh1/7xqVuLvHhfUC4BT1qjYzDHThkmI1D1GvFh1/bfdSUJrqjRZDRyfu7nFJvQAoQL2qzQwDXbikWC1y1NcWp1HNYsIXLQY9g7i7R6oXlUsGwFmKVW1mGOjCJcVqkaa+tjiNahYTvmgx6BnE3Z0uKRkAZylWtZlhoAuXFKtFmvra4jQqM+c/xN2dLikZAGcpVrWlGTbJQMtUKp5N3N1JyQC6oFhdwCQD7VOpeDZxd6dUMlQNoGUq1QXSJJtnoFnKFM8m7u6nagDtU6muYZ6BxilTPJu4u5+qAbRPpbqGeQYap0zxbOLufqoG0D6V6hppnk010CY1imcTd/dTNYD2qVSXMdVA45QpHkzc3S+VDFUDaJYydRlTDTROmeLBxN1DVA2gccrUZUw10DhligcTdw9RNYDGKVNXMttAy9QoHkzcPUTVABqnTF3JbAMtU6PY47/+579Ti0M9E3cPUTWAxilTVzLbQMvUKPYQd1E1gOYpU1cy20DL1Cj2EHcBaJ7NzZXMNtAyNYqdxF0A2mZzcyWzDbRMjWIncReAttncXMlsAy1To9gjZV1xF4BW2dwA8OIXgT1Gyro/xF2AEdncAPDiF4E9xF0AmmdzA8CLXwT2EHcBaJ7NDQAvfhHYQ9wFoElpQzNvADycXwSypawr7gLQhrSP+dgAeDi/CGQbLOv+EHcBOpT2Ll8bAA/nF4E8KeuKuwDcIW1ZPjYAeOdngjzjZd0f4i5A89JO5WMDgA0Vfi9SLjrf4oo0YMhFEXcBGpb2KO8NAHJU+OFIueh8iytyt1EXRdwFaEbakWw0ANir9I/IPBqdb3FRbjXqcoi7AJdL2478BgCHtfdrksLVePmqU6Muh7gLUFPaYRxrAHBekz8ro+arTo26HOIuwAlpA1GkAUANTf7QjJqvepTWYrzlEHeBEaXf9TYbAFypyR+gUfNVjwZeC3EX6Er6we6lAcDt2vtVSvlqyIjVnYHXQtwFvkm/kdp7A4D2NfazlcLVqBGrOwOvhbgLD5Z+/MZrAEDS2O/jwOGqR2Mvh7gLg0o/bCM1AOCAxn5Jx85X3Rl7OcRd6EH6lbqlAQBda+Y3PSWrgfNVd8ZeDnEXLpF+ZppqAMBDNPDrn2JVatHBfYZfC3GXTqQareU0AIC5uzcJKVaNHa66M/yKiLtcJRVZbW8DADjp7n1FilXbLUZzleFnXtw9KpUMTctpAAA3untPkmLVdovRXOIJ0/6ff199TWu5AQBw2N17qpSstluM5hJPmHZxV7uqAQBwl7a3ZE/IXQ16wrSLuycaAAB0oeEdbApdY+euBj1h2v3/7gIAwOjEXd48YdrFXQAAGF2rcTclrrFDF3cRdwEAYHRNxt151hV3zzCHa8RdAAAYXXtxNyW01KKD/RYzeazFtcYi7gIAwOgai7vDp6yLzefzcItrjUXcBQCA0bUUd5+Qsq63mNUDLS40FnEXAABG10bcfUK+up4p3SDuAgDA6BqIu/NUJpgVtJjYV4u+xxN3AQBgdBfG3ffElY7MW/Rx2mJiy7b4jG6JuwAAMLo74u7HFoMobTHPpVpcvVviLgAAjK6NuBsjqGwx7WdaXLFb4i4AAIzu7rgbfXRimIUTdwEAYHQ3xd04BDcRdwEAYHQXxl1oh7gLAACjE3d5JHEXAABGJ+7ySOIuAACMTtzlkcRdAAAYnbjLI4m7AAAwOnGXRxJ3AQBgdOIujyTuAgDA6MRdHkncBQCA0Ym7PJK4CwAAoxN3eSRxFwAARifu8kjiLgAAjE7c5ZHEXQAAGJ24yyOJuwAAMDpxl0cSdwEAYHTiLo8k7gIAwOjEXR5J3AUAgNGJuzySuAsAAKMTd3kkcRcAAEYn7vJI4i4AAIxO3OWRxF0AABiduMsjibsAADA6cZdHEncBAGB04i6PJO4CAMDoxF0eSdwFAIDRibs8krgLAACjE3d5JHEXAABGJ+7ySOIuAACMTtzlkcRdAAAYmqzLU4m7AAAwNHGXpxJ3AQBgXCnrirs8j7gLAADjknV5MHEXAAAGlbKuuMsjibsAADAiWZfHE3cBAGBE4i6PJ+4CAMBwZF0QdwHo2Hwzp2mapq01eCpxF4CWLLZomqZp2vkGTyXuAlDBYqelaZqm3dLg2cRdADIs9k+NNACAdeIuAL8WYfL6BgBQjrgL8DCLhFmpAQDcTdwFGNEifJ5vAAC9EXcBurVIpOcbAMBAxF2A5i1C6ckGAPAM4i5AexYB9UADAHg8cRegAYuwmtMAANgk7gJcbhFcvzYAAPYTdwEqW2TXnAYAwGniLkAhi8i6qwEAUJq4C5BtkVEPNwAA6hN3AWYWubRIAwDgDuIuQKGUCwBAS8Rd4KkWYfVrAwCgK+Iu8CSLBPuxAQAwBHEX6NkiqR5uAAAMR9wFerBIp6UaAADjEneBHixi6pkGAMAziLtADxaRNTUAAFgh7gIAADAgcRcAAIABibsAAAAMSNwFAABgQOIuAAAAAxJ3AQAAGJC4CwAAwIDEXQAAAAYk7gIAADAgcRcAAIABibsAAAAMSNwFAABgQOIuAAAAAxJ3AQAAGJC4CwAAwIDEXQAAAAYk7gIAADAgcRcAAIABibsAAAAMSNwFAABgQOIuAAAAAxJ3AQAAGJC4CwAAwIDEXQAAAAYk7gIAADAgcRcAAIABibsAAAAMSNwFAABgQOIuAAAAAxJ3AQAAGJC4CwAAwIDEXQAAAAYk7gIAADAgcRcAAIABibsAAAAMSNwFAABgQOIuAAAAAxJ3AQAAGJC4CwAAwIDEXQAAAAYk7gIAADAgcRcAAIABibsAAAAMSNwFAABgQOIuAAAAAxJ3AQAAGJC4CwAAwIDEXQAAAAYk7gIAADAgcRcAAIABibsAAAAMSNwFAABgQOIuAAAAAxJ3AQAAGJC4CwAAwIDEXQAAAAYk7gIAADAgcRcAAIABibsAAAAMSNwFAABgQOIuAAAAAxJ3AQAAGJC4CwAAwIDEXQAAAAYk7gIAADAgcRcAAIABibsAAAAMSNwFAABgQOIuAAAAAxJ3AQAAGJC4CwAAwIDEXQAAAAYk7gIAADAgcRcAAIABibsAAAAMSNwFAABgQOIuAAAAAxJ3AQAAGJC4CwAAwIDEXQAAAAYk7gIAADAgcRcAAIABibsAAAAMSNwFAABgQOIuAAAAAxJ3AQAAGJC4CwAAwIDEXQAAAAYk7gIAADAgcRcAAIABibsAAAAMSNwFAABgQOIuAAAAAxJ3AQAAGJC4CwAAwIDEXQAAAAYk7gIAADAgcRcAAIABibsAAAAMSNwFAABgQOIuAAAAAxJ3AQAAGJC4CwAAwIDEXQAAAAYk7gIAADAgcRcAAIABibsAAAAMSNwFAABgQOIuAAAAAxJ3AQAAGJC4CwAAwIDEXQAAAAYk7gIAADAgcRcAAIABibsAAAAMSNwFAABgQOIuAAAAAxJ3AQAAGJC4CwAAwIDEXQAAAAYk7gIAADAgcRcAAIABibsAAAAMSNwFAABgQOIuAAAAAxJ3AQAAGJC4CwAAwIDEXQAAAAYk7gIAADAgcRcAAIABibsAAAAMSNwFAABgQOIuAAAAAxJ3AQAAGJC4CwAAwIDEXQAAAAYk7gIAADAgcRcAAIABibsAAAAMSNwFAABgQOIuAAAAAxJ3AQAAGJC4CwAAwIDEXQAAAAYk7gIAADAgcRcAAIABibsAAAAMSNwFAABgQOIuAAAAAxJ3AQAAGJC4CwAAwIDEXQAAAAYk7gIAADAgcRcAAIABibsAAAAMSNwFAABgQOIuAAAAAxJ3AQAAGJC4CwAAwIDEXQAAAAYk7gIAADAgcRcAAIABibsAAAAMSNwFAABgQOIuAAAAAxJ3AQAAGJC4CwAAwIDEXQAAAAYk7gIAADAgcRcAAIABibsAAAAMSNwFAABgQOIuAAAAAxJ3AQAAGJC4CwAAwIDEXQAAAAYk7gIAADAgcRcAAIABibsAAAAMSNwFAABgQOIuAAAAAxJ3AQAAGJC4CwAAwHD+z//5/wHQ296UzQsTAAAAAABJRU5ErkJggg==)"
      ],
      "metadata": {
        "id": "1Scn956fVq7J"
      }
    },
    {
      "cell_type": "code",
      "source": [
        "import random\n",
        "# my = int(input(\"0-5:\"))\n",
        "my = 3\n",
        "# com = random.randint(0, 5)\n",
        "com = 5\n",
        "trans = [\"剪刀(0)\", \"石頭(0)\", \"布(0)\",\n",
        "      \"剪刀(1)\", \"石頭(1)\", \"布(1)\"]\n",
        "print(\"我出的:\", trans[my])\n",
        "print(\"電腦出的:\", trans[com])\n",
        "\n",
        "my_group = my // 3\n",
        "com_group = com // 3\n",
        "if my_group == com_group:\n",
        "    print(\"同組\")\n",
        "    # my, com -> 0, 1, 2\n",
        "    # my, com -> 3, 4, 5 -> 0, 1, 2\n",
        "    my2, com2 = my % 3, com % 3\n",
        "    # 抄\n",
        "    if my2 == (com2 + 1) % 3:\n",
        "        print(\"WIN\")\n",
        "    elif com2 == (my2 + 1) % 3:\n",
        "        print(\"LOSE\")\n",
        "    else:\n",
        "        print(\"EVEN\")\n",
        "else:\n",
        "    print(\"平手(不同組)\")"
      ],
      "metadata": {
        "colab": {
          "base_uri": "https://localhost:8080/"
        },
        "id": "3XWjn4EQVd6D",
        "outputId": "1f6d8df4-8e51-414c-8445-b9856b7cd815"
      },
      "execution_count": 64,
      "outputs": [
        {
          "output_type": "stream",
          "name": "stdout",
          "text": [
            "我出的: 剪刀(1)\n",
            "電腦出的: 布(1)\n",
            "同組\n",
            "WIN\n"
          ]
        }
      ]
    }
  ]
}