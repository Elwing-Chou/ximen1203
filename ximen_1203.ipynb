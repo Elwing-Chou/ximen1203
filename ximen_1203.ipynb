{
  "nbformat": 4,
  "nbformat_minor": 0,
  "metadata": {
    "colab": {
      "provenance": [],
      "authorship_tag": "ABX9TyM1u2tlZ2E9gwjqotWqNTPt",
      "include_colab_link": true
    },
    "kernelspec": {
      "name": "python3",
      "display_name": "Python 3"
    },
    "language_info": {
      "name": "python"
    }
  },
  "cells": [
    {
      "cell_type": "markdown",
      "metadata": {
        "id": "view-in-github",
        "colab_type": "text"
      },
      "source": [
        "<a href=\"https://colab.research.google.com/github/Elwing-Chou/ximen1203/blob/main/ximen_1203.ipynb\" target=\"_parent\"><img src=\"https://colab.research.google.com/assets/colab-badge.svg\" alt=\"Open In Colab\"/></a>"
      ]
    },
    {
      "cell_type": "markdown",
      "source": [
        "```python\n",
        "0. 註解: # 影響可讀性很重要的一點\n",
        "\n",
        "1. 功能: print(5)\n",
        "  !!! 就算沒有參數 功能()\n",
        "\n",
        "2. 排版: 影響\"可讀性\"很重要的一點\n",
        "PEP Coding Style\n",
        "\n",
        "3. 不要重複寫!!!!!!!!!\n",
        "\n",
        "4. =:\n",
        "  a. 5 == 3 + 2(是否相等?)\n",
        "  b. x = 3(以...做取代)\n",
        "\n",
        "5. 型態:\n",
        "  a. 數字(整數int, 小數float)\n",
        "  b. 字串(str): 包含數字空白換行 都是一個字\n",
        "    \"xxx\"  \n",
        "\n",
        "6. 型態轉換:\n",
        "  int() float() str()\n",
        "\n",
        "7. input(\"提示字串\")\n",
        "  a. 參數: 提示字串\n",
        "  b. 回傳值: 回傳一個\"新的\"結果(確認型態!!!!!!!!)\n",
        "\n",
        "8. 如果否則(if else)\n",
        "  快捷鍵: TAB/Shift+TAB\n",
        "\n",
        "9. 縮排排版(強調) (冒號/TAB)\n",
        "  Elwing:\n",
        "    xxxx\n",
        "    xxxx\n",
        "\n",
        "!! 浮點數誤差: 轉換之間產生的小誤差 沒差\n",
        "```"
      ],
      "metadata": {
        "id": "NPlaEzEhShL6"
      }
    },
    {
      "cell_type": "code",
      "execution_count": 45,
      "metadata": {
        "id": "OPlh8qDKK4Mw",
        "colab": {
          "base_uri": "https://localhost:8080/"
        },
        "outputId": "b119f68a-ce45-4a31-e834-304035aa13ba"
      },
      "outputs": [
        {
          "output_type": "stream",
          "name": "stdout",
          "text": [
            "請輸入體重(kg):70\n",
            "請輸入身高(cm):150\n",
            "我的體重是:70.0kg\n",
            "我的身高是:150.0cm\n",
            "bmi是:31.11111111111111\n",
            "過重\n",
            "多運動\n",
            "!!!!!!\n"
          ]
        }
      ],
      "source": [
        "# 計算bmi的程式 bmi = 體重(kg) / 身高(m)的平方\n",
        "weight = float(input(\"請輸入體重(kg):\"))\n",
        "height = float(input(\"請輸入身高(cm):\"))\n",
        "bmi = weight / (height / 100) ** 2\n",
        "# 2 + 3 -> 5\n",
        "# \"abc\" + \"def\" -> \"abcdef\"\n",
        "# \"abc\" + 2 -> X\n",
        "# Python不幫你偷雞摸狗(偷偷幫你把2換成字串)\n",
        "print(\"我的體重是:\" + str(weight) + \"kg\")\n",
        "print(\"我的身高是:\" + str(height) + \"cm\")\n",
        "print(\"bmi是:\" + str(bmi))\n",
        "\n",
        "# > >= <= < ==\n",
        "if bmi > 25:\n",
        "    print(\"過重\")\n",
        "    print(\"多運動\")\n",
        "else:\n",
        "    print(\"正常\")\n",
        "print(\"!!!!!!\")"
      ]
    },
    {
      "cell_type": "code",
      "source": [
        "a = 4.8\n",
        "b = int(a)\n",
        "print(a)\n",
        "print(b)"
      ],
      "metadata": {
        "colab": {
          "base_uri": "https://localhost:8080/"
        },
        "id": "tBzKN2P6kqyd",
        "outputId": "abb2fde8-b573-4389-ca1e-83fce434dd62"
      },
      "execution_count": 33,
      "outputs": [
        {
          "output_type": "stream",
          "name": "stdout",
          "text": [
            "4.8\n",
            "4\n"
          ]
        }
      ]
    },
    {
      "cell_type": "code",
      "source": [
        "a = 3\n",
        "b = a + 2\n",
        "print(a)\n",
        "print(b)"
      ],
      "metadata": {
        "colab": {
          "base_uri": "https://localhost:8080/"
        },
        "id": "vUvNGXOIl-ml",
        "outputId": "7d66c46d-3a08-4445-f87a-fd1706e8fe67"
      },
      "execution_count": 35,
      "outputs": [
        {
          "output_type": "stream",
          "name": "stdout",
          "text": [
            "3\n",
            "5\n"
          ]
        }
      ]
    },
    {
      "cell_type": "markdown",
      "source": [
        "# 剪刀石頭不\n",
        "\n",
        "```python\n",
        "1. 有隱含大小關係: 整數數字(從0開始)\n",
        "\n",
        "2. 不同的.py: 引用(import) .py名\n",
        "  用的時候照抄\n",
        "    import random\n",
        "    random.(的)randint(0, 2)\n",
        "  !!! 除了最內建(built-in functions)以外都要import\n",
        "\n",
        "3. 清單(list)型態\n",
        "  trans = [\"xxx\", \"xxx\", \"xxx\"]\n",
        "  key-value: 在每個位置賦予他一個key\n",
        "  只要有key-value, 就一定有查詢操作\n",
        "  查[key]\n",
        "\n",
        "4. 如果 否則如果 否則(單選篩選 嚴格放上)\n",
        "    if bmi > 25:\n",
        "        print\n",
        "    elif bmi > 18:\n",
        "        print\n",
        "    else:\n",
        "        print\n",
        "\n",
        "5. else可以不寫, 最難的可以考慮放else\n",
        "\n",
        "6. 7 / 3 = 2...1\n",
        "  a. 取餘數(%)(mod): 循環 7 % 3 -> 1\n",
        "  b. 取商數(//): ?\n",
        "```"
      ],
      "metadata": {
        "id": "I30mpv0W-c5n"
      }
    },
    {
      "cell_type": "code",
      "source": [
        "# 0: 剪刀 1: 石頭 2: 布\n",
        "import random\n",
        "my = int(input(\"0-2:\"))\n",
        "com = random.randint(0, 2)\n",
        "trans = [\"剪刀\", \"石頭\", \"布\"]\n",
        "print(\"我出的:\", trans[my])\n",
        "print(\"電腦出的:\", trans[com])\n",
        "\n",
        "# 我出的是電腦的下一個拳\n",
        "if my == (com + 1) % 3:\n",
        "    print(\"WIN\")\n",
        "elif com == (my + 1) % 3:\n",
        "    print(\"LOSE\")\n",
        "else:\n",
        "    print(\"EVEN\")"
      ],
      "metadata": {
        "colab": {
          "base_uri": "https://localhost:8080/"
        },
        "id": "BShVVP5t-cWI",
        "outputId": "d8fa1cf3-441a-4ac5-8d3e-624c7f533efb"
      },
      "execution_count": 60,
      "outputs": [
        {
          "output_type": "stream",
          "name": "stdout",
          "text": [
            "0-2:0\n",
            "我出的: 剪刀\n",
            "電腦出的: 布\n",
            "WIN\n"
          ]
        }
      ]
    },
    {
      "cell_type": "code",
      "source": [
        "# 用字串demo key-value\n",
        "s = \"apples\"\n",
        "print(s[5])"
      ],
      "metadata": {
        "colab": {
          "base_uri": "https://localhost:8080/"
        },
        "id": "YbIHDRDkHupd",
        "outputId": "37301600-7e3b-4c7e-eb36-3860d87ec981"
      },
      "execution_count": 57,
      "outputs": [
        {
          "output_type": "stream",
          "name": "stdout",
          "text": [
            "s\n"
          ]
        }
      ]
    }
  ]
}