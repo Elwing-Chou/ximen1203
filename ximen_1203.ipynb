{
  "nbformat": 4,
  "nbformat_minor": 0,
  "metadata": {
    "colab": {
      "provenance": [],
      "authorship_tag": "ABX9TyNyznF37KO7OxqYKQh4N0gP",
      "include_colab_link": true
    },
    "kernelspec": {
      "name": "python3",
      "display_name": "Python 3"
    },
    "language_info": {
      "name": "python"
    }
  },
  "cells": [
    {
      "cell_type": "markdown",
      "metadata": {
        "id": "view-in-github",
        "colab_type": "text"
      },
      "source": [
        "<a href=\"https://colab.research.google.com/github/Elwing-Chou/ximen1203/blob/main/ximen_1203.ipynb\" target=\"_parent\"><img src=\"https://colab.research.google.com/assets/colab-badge.svg\" alt=\"Open In Colab\"/></a>"
      ]
    },
    {
      "cell_type": "markdown",
      "source": [
        "```python\n",
        "0. 註解: # 影響可讀性很重要的一點\n",
        "\n",
        "1. 功能: print(5)\n",
        "  !!! 就算沒有參數 功能()\n",
        "\n",
        "2. 排版: 影響\"可讀性\"很重要的一點\n",
        "PEP Coding Style\n",
        "\n",
        "3. 不要重複寫!!!!!!!!!\n",
        "\n",
        "4. =:\n",
        "  a. 5 == 3 + 2(是否相等?)\n",
        "  b. x = 3(以...做取代)\n",
        "\n",
        "5. 型態:\n",
        "  a. 數字(整數int, 小數float)\n",
        "  b. 字串(str): 包含數字空白換行 都是一個字\n",
        "    \"xxx\"  \n",
        "\n",
        "6. 型態轉換:\n",
        "  int() float() str()\n",
        "\n",
        "7. input(\"提示字串\")\n",
        "  a. 參數: 提示字串\n",
        "  b. 回傳值: 回傳一個\"新的\"結果(確認型態!!!!!!!!)\n",
        "\n",
        "!! 浮點數誤差: 轉換之間產生的小誤差 沒差\n",
        "```"
      ],
      "metadata": {
        "id": "NPlaEzEhShL6"
      }
    },
    {
      "cell_type": "code",
      "execution_count": 40,
      "metadata": {
        "id": "OPlh8qDKK4Mw",
        "colab": {
          "base_uri": "https://localhost:8080/"
        },
        "outputId": "751e5906-1270-4b6b-c5bb-486e28b027d6"
      },
      "outputs": [
        {
          "output_type": "stream",
          "name": "stdout",
          "text": [
            "請輸入體重(kg):70.2\n",
            "我的體重是:70.2kg\n",
            "我的身高是:175cm\n",
            "bmi是:22.922448979591838\n"
          ]
        }
      ],
      "source": [
        "# 計算bmi的程式 bmi = 體重(kg) / 身高(m)的平方\n",
        "weight = float(input(\"請輸入體重(kg):\"))\n",
        "height = float(input(\"請輸入身高(cm):\"))\n",
        "bmi = weight / (height / 100) ** 2\n",
        "# 2 + 3 -> 5\n",
        "# \"abc\" + \"def\" -> \"abcdef\"\n",
        "# \"abc\" + 2 -> X\n",
        "# Python不幫你偷雞摸狗(偷偷幫你把2換成字串)\n",
        "print(\"我的體重是:\" + str(weight) + \"kg\")\n",
        "print(\"我的身高是:\" + str(height) + \"cm\")\n",
        "print(\"bmi是:\" + str(bmi))"
      ]
    },
    {
      "cell_type": "code",
      "source": [
        "a = 4.8\n",
        "b = int(a)\n",
        "print(a)\n",
        "print(b)"
      ],
      "metadata": {
        "colab": {
          "base_uri": "https://localhost:8080/"
        },
        "id": "tBzKN2P6kqyd",
        "outputId": "abb2fde8-b573-4389-ca1e-83fce434dd62"
      },
      "execution_count": 33,
      "outputs": [
        {
          "output_type": "stream",
          "name": "stdout",
          "text": [
            "4.8\n",
            "4\n"
          ]
        }
      ]
    },
    {
      "cell_type": "code",
      "source": [
        "a = 3\n",
        "b = a + 2\n",
        "print(a)\n",
        "print(b)"
      ],
      "metadata": {
        "colab": {
          "base_uri": "https://localhost:8080/"
        },
        "id": "vUvNGXOIl-ml",
        "outputId": "7d66c46d-3a08-4445-f87a-fd1706e8fe67"
      },
      "execution_count": 35,
      "outputs": [
        {
          "output_type": "stream",
          "name": "stdout",
          "text": [
            "3\n",
            "5\n"
          ]
        }
      ]
    }
  ]
}